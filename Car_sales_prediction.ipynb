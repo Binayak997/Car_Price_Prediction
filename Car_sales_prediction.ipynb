{
 "cells": [
  {
   "cell_type": "code",
   "execution_count": 1,
   "metadata": {},
   "outputs": [],
   "source": [
    "import pandas as pd\n",
    "import numpy as np\n",
    "import matplotlib.pyplot as plt\n",
    "%matplotlib inline"
   ]
  },
  {
   "cell_type": "code",
   "execution_count": 10,
   "metadata": {},
   "outputs": [
    {
     "data": {
      "text/html": [
       "<div>\n",
       "<style scoped>\n",
       "    .dataframe tbody tr th:only-of-type {\n",
       "        vertical-align: middle;\n",
       "    }\n",
       "\n",
       "    .dataframe tbody tr th {\n",
       "        vertical-align: top;\n",
       "    }\n",
       "\n",
       "    .dataframe thead th {\n",
       "        text-align: right;\n",
       "    }\n",
       "</style>\n",
       "<table border=\"1\" class=\"dataframe\">\n",
       "  <thead>\n",
       "    <tr style=\"text-align: right;\">\n",
       "      <th></th>\n",
       "      <th>name</th>\n",
       "      <th>year</th>\n",
       "      <th>selling_price</th>\n",
       "      <th>km_driven</th>\n",
       "      <th>fuel</th>\n",
       "      <th>seller_type</th>\n",
       "      <th>transmission</th>\n",
       "      <th>owner</th>\n",
       "    </tr>\n",
       "  </thead>\n",
       "  <tbody>\n",
       "    <tr>\n",
       "      <td>0</td>\n",
       "      <td>Maruti 800 AC</td>\n",
       "      <td>2007</td>\n",
       "      <td>60000</td>\n",
       "      <td>70000</td>\n",
       "      <td>Petrol</td>\n",
       "      <td>Individual</td>\n",
       "      <td>Manual</td>\n",
       "      <td>First Owner</td>\n",
       "    </tr>\n",
       "    <tr>\n",
       "      <td>1</td>\n",
       "      <td>Maruti Wagon R LXI Minor</td>\n",
       "      <td>2007</td>\n",
       "      <td>135000</td>\n",
       "      <td>50000</td>\n",
       "      <td>Petrol</td>\n",
       "      <td>Individual</td>\n",
       "      <td>Manual</td>\n",
       "      <td>First Owner</td>\n",
       "    </tr>\n",
       "    <tr>\n",
       "      <td>2</td>\n",
       "      <td>Hyundai Verna 1.6 SX</td>\n",
       "      <td>2012</td>\n",
       "      <td>600000</td>\n",
       "      <td>100000</td>\n",
       "      <td>Diesel</td>\n",
       "      <td>Individual</td>\n",
       "      <td>Manual</td>\n",
       "      <td>First Owner</td>\n",
       "    </tr>\n",
       "    <tr>\n",
       "      <td>3</td>\n",
       "      <td>Datsun RediGO T Option</td>\n",
       "      <td>2017</td>\n",
       "      <td>250000</td>\n",
       "      <td>46000</td>\n",
       "      <td>Petrol</td>\n",
       "      <td>Individual</td>\n",
       "      <td>Manual</td>\n",
       "      <td>First Owner</td>\n",
       "    </tr>\n",
       "    <tr>\n",
       "      <td>4</td>\n",
       "      <td>Honda Amaze VX i-DTEC</td>\n",
       "      <td>2014</td>\n",
       "      <td>450000</td>\n",
       "      <td>141000</td>\n",
       "      <td>Diesel</td>\n",
       "      <td>Individual</td>\n",
       "      <td>Manual</td>\n",
       "      <td>Second Owner</td>\n",
       "    </tr>\n",
       "  </tbody>\n",
       "</table>\n",
       "</div>"
      ],
      "text/plain": [
       "                       name  year  selling_price  km_driven    fuel  \\\n",
       "0             Maruti 800 AC  2007          60000      70000  Petrol   \n",
       "1  Maruti Wagon R LXI Minor  2007         135000      50000  Petrol   \n",
       "2      Hyundai Verna 1.6 SX  2012         600000     100000  Diesel   \n",
       "3    Datsun RediGO T Option  2017         250000      46000  Petrol   \n",
       "4     Honda Amaze VX i-DTEC  2014         450000     141000  Diesel   \n",
       "\n",
       "  seller_type transmission         owner  \n",
       "0  Individual       Manual   First Owner  \n",
       "1  Individual       Manual   First Owner  \n",
       "2  Individual       Manual   First Owner  \n",
       "3  Individual       Manual   First Owner  \n",
       "4  Individual       Manual  Second Owner  "
      ]
     },
     "execution_count": 10,
     "metadata": {},
     "output_type": "execute_result"
    }
   ],
   "source": [
    "df=pd.read_csv(\"D:\\\\1\\\\CAR DETAILS FROM CAR DEKHO.csv\")\n",
    "df.head()"
   ]
  },
  {
   "cell_type": "code",
   "execution_count": 11,
   "metadata": {},
   "outputs": [
    {
     "data": {
      "text/plain": [
       "(4340, 8)"
      ]
     },
     "execution_count": 11,
     "metadata": {},
     "output_type": "execute_result"
    }
   ],
   "source": [
    "df.shape"
   ]
  },
  {
   "cell_type": "code",
   "execution_count": 12,
   "metadata": {},
   "outputs": [
    {
     "data": {
      "text/plain": [
       "name             object\n",
       "year              int64\n",
       "selling_price     int64\n",
       "km_driven         int64\n",
       "fuel             object\n",
       "seller_type      object\n",
       "transmission     object\n",
       "owner            object\n",
       "dtype: object"
      ]
     },
     "execution_count": 12,
     "metadata": {},
     "output_type": "execute_result"
    }
   ],
   "source": [
    "df.dtypes"
   ]
  },
  {
   "cell_type": "code",
   "execution_count": 13,
   "metadata": {},
   "outputs": [
    {
     "name": "stdout",
     "output_type": "stream",
     "text": [
      "['Petrol' 'Diesel' 'CNG' 'LPG' 'Electric']\n",
      "['Individual' 'Dealer' 'Trustmark Dealer']\n",
      "['Manual' 'Automatic']\n",
      "['First Owner' 'Second Owner' 'Fourth & Above Owner' 'Third Owner'\n",
      " 'Test Drive Car']\n"
     ]
    }
   ],
   "source": [
    "print(df['fuel'].unique())\n",
    "print(df['seller_type'].unique())\n",
    "print(df['transmission'].unique())\n",
    "print(df['owner'].unique())"
   ]
  },
  {
   "cell_type": "code",
   "execution_count": 15,
   "metadata": {},
   "outputs": [
    {
     "data": {
      "text/plain": [
       "name             0\n",
       "year             0\n",
       "selling_price    0\n",
       "km_driven        0\n",
       "fuel             0\n",
       "seller_type      0\n",
       "transmission     0\n",
       "owner            0\n",
       "dtype: int64"
      ]
     },
     "execution_count": 15,
     "metadata": {},
     "output_type": "execute_result"
    }
   ],
   "source": [
    "df.isnull().sum()"
   ]
  },
  {
   "cell_type": "code",
   "execution_count": 19,
   "metadata": {},
   "outputs": [
    {
     "data": {
      "text/plain": [
       "Index(['name', 'year', 'selling_price', 'km_driven', 'fuel', 'seller_type',\n",
       "       'transmission', 'owner'],\n",
       "      dtype='object')"
      ]
     },
     "execution_count": 19,
     "metadata": {},
     "output_type": "execute_result"
    }
   ],
   "source": [
    "df.columns"
   ]
  },
  {
   "cell_type": "code",
   "execution_count": 20,
   "metadata": {},
   "outputs": [],
   "source": [
    "final_dataset=df[['year', 'selling_price', 'km_driven', 'fuel', 'seller_type',\n",
    "       'transmission', 'owner']]"
   ]
  },
  {
   "cell_type": "code",
   "execution_count": 21,
   "metadata": {},
   "outputs": [
    {
     "data": {
      "text/plain": [
       "(4340, 7)"
      ]
     },
     "execution_count": 21,
     "metadata": {},
     "output_type": "execute_result"
    }
   ],
   "source": [
    "final_dataset.shape"
   ]
  },
  {
   "cell_type": "code",
   "execution_count": 22,
   "metadata": {},
   "outputs": [],
   "source": [
    "final_dataset['current_year']=2021"
   ]
  },
  {
   "cell_type": "code",
   "execution_count": 23,
   "metadata": {},
   "outputs": [
    {
     "data": {
      "text/html": [
       "<div>\n",
       "<style scoped>\n",
       "    .dataframe tbody tr th:only-of-type {\n",
       "        vertical-align: middle;\n",
       "    }\n",
       "\n",
       "    .dataframe tbody tr th {\n",
       "        vertical-align: top;\n",
       "    }\n",
       "\n",
       "    .dataframe thead th {\n",
       "        text-align: right;\n",
       "    }\n",
       "</style>\n",
       "<table border=\"1\" class=\"dataframe\">\n",
       "  <thead>\n",
       "    <tr style=\"text-align: right;\">\n",
       "      <th></th>\n",
       "      <th>year</th>\n",
       "      <th>selling_price</th>\n",
       "      <th>km_driven</th>\n",
       "      <th>fuel</th>\n",
       "      <th>seller_type</th>\n",
       "      <th>transmission</th>\n",
       "      <th>owner</th>\n",
       "      <th>current_year</th>\n",
       "    </tr>\n",
       "  </thead>\n",
       "  <tbody>\n",
       "    <tr>\n",
       "      <td>0</td>\n",
       "      <td>2007</td>\n",
       "      <td>60000</td>\n",
       "      <td>70000</td>\n",
       "      <td>Petrol</td>\n",
       "      <td>Individual</td>\n",
       "      <td>Manual</td>\n",
       "      <td>First Owner</td>\n",
       "      <td>2021</td>\n",
       "    </tr>\n",
       "    <tr>\n",
       "      <td>1</td>\n",
       "      <td>2007</td>\n",
       "      <td>135000</td>\n",
       "      <td>50000</td>\n",
       "      <td>Petrol</td>\n",
       "      <td>Individual</td>\n",
       "      <td>Manual</td>\n",
       "      <td>First Owner</td>\n",
       "      <td>2021</td>\n",
       "    </tr>\n",
       "    <tr>\n",
       "      <td>2</td>\n",
       "      <td>2012</td>\n",
       "      <td>600000</td>\n",
       "      <td>100000</td>\n",
       "      <td>Diesel</td>\n",
       "      <td>Individual</td>\n",
       "      <td>Manual</td>\n",
       "      <td>First Owner</td>\n",
       "      <td>2021</td>\n",
       "    </tr>\n",
       "    <tr>\n",
       "      <td>3</td>\n",
       "      <td>2017</td>\n",
       "      <td>250000</td>\n",
       "      <td>46000</td>\n",
       "      <td>Petrol</td>\n",
       "      <td>Individual</td>\n",
       "      <td>Manual</td>\n",
       "      <td>First Owner</td>\n",
       "      <td>2021</td>\n",
       "    </tr>\n",
       "    <tr>\n",
       "      <td>4</td>\n",
       "      <td>2014</td>\n",
       "      <td>450000</td>\n",
       "      <td>141000</td>\n",
       "      <td>Diesel</td>\n",
       "      <td>Individual</td>\n",
       "      <td>Manual</td>\n",
       "      <td>Second Owner</td>\n",
       "      <td>2021</td>\n",
       "    </tr>\n",
       "  </tbody>\n",
       "</table>\n",
       "</div>"
      ],
      "text/plain": [
       "   year  selling_price  km_driven    fuel seller_type transmission  \\\n",
       "0  2007          60000      70000  Petrol  Individual       Manual   \n",
       "1  2007         135000      50000  Petrol  Individual       Manual   \n",
       "2  2012         600000     100000  Diesel  Individual       Manual   \n",
       "3  2017         250000      46000  Petrol  Individual       Manual   \n",
       "4  2014         450000     141000  Diesel  Individual       Manual   \n",
       "\n",
       "          owner  current_year  \n",
       "0   First Owner          2021  \n",
       "1   First Owner          2021  \n",
       "2   First Owner          2021  \n",
       "3   First Owner          2021  \n",
       "4  Second Owner          2021  "
      ]
     },
     "execution_count": 23,
     "metadata": {},
     "output_type": "execute_result"
    }
   ],
   "source": [
    "final_dataset.head()"
   ]
  },
  {
   "cell_type": "markdown",
   "metadata": {},
   "source": [
    "## Creating a new feature 'No_yr'"
   ]
  },
  {
   "cell_type": "code",
   "execution_count": 24,
   "metadata": {},
   "outputs": [],
   "source": [
    "final_dataset['No_yr']=final_dataset['current_year']-final_dataset['year']"
   ]
  },
  {
   "cell_type": "code",
   "execution_count": 25,
   "metadata": {},
   "outputs": [
    {
     "data": {
      "text/html": [
       "<div>\n",
       "<style scoped>\n",
       "    .dataframe tbody tr th:only-of-type {\n",
       "        vertical-align: middle;\n",
       "    }\n",
       "\n",
       "    .dataframe tbody tr th {\n",
       "        vertical-align: top;\n",
       "    }\n",
       "\n",
       "    .dataframe thead th {\n",
       "        text-align: right;\n",
       "    }\n",
       "</style>\n",
       "<table border=\"1\" class=\"dataframe\">\n",
       "  <thead>\n",
       "    <tr style=\"text-align: right;\">\n",
       "      <th></th>\n",
       "      <th>year</th>\n",
       "      <th>selling_price</th>\n",
       "      <th>km_driven</th>\n",
       "      <th>fuel</th>\n",
       "      <th>seller_type</th>\n",
       "      <th>transmission</th>\n",
       "      <th>owner</th>\n",
       "      <th>current_year</th>\n",
       "      <th>No_yr</th>\n",
       "    </tr>\n",
       "  </thead>\n",
       "  <tbody>\n",
       "    <tr>\n",
       "      <td>0</td>\n",
       "      <td>2007</td>\n",
       "      <td>60000</td>\n",
       "      <td>70000</td>\n",
       "      <td>Petrol</td>\n",
       "      <td>Individual</td>\n",
       "      <td>Manual</td>\n",
       "      <td>First Owner</td>\n",
       "      <td>2021</td>\n",
       "      <td>14</td>\n",
       "    </tr>\n",
       "    <tr>\n",
       "      <td>1</td>\n",
       "      <td>2007</td>\n",
       "      <td>135000</td>\n",
       "      <td>50000</td>\n",
       "      <td>Petrol</td>\n",
       "      <td>Individual</td>\n",
       "      <td>Manual</td>\n",
       "      <td>First Owner</td>\n",
       "      <td>2021</td>\n",
       "      <td>14</td>\n",
       "    </tr>\n",
       "    <tr>\n",
       "      <td>2</td>\n",
       "      <td>2012</td>\n",
       "      <td>600000</td>\n",
       "      <td>100000</td>\n",
       "      <td>Diesel</td>\n",
       "      <td>Individual</td>\n",
       "      <td>Manual</td>\n",
       "      <td>First Owner</td>\n",
       "      <td>2021</td>\n",
       "      <td>9</td>\n",
       "    </tr>\n",
       "    <tr>\n",
       "      <td>3</td>\n",
       "      <td>2017</td>\n",
       "      <td>250000</td>\n",
       "      <td>46000</td>\n",
       "      <td>Petrol</td>\n",
       "      <td>Individual</td>\n",
       "      <td>Manual</td>\n",
       "      <td>First Owner</td>\n",
       "      <td>2021</td>\n",
       "      <td>4</td>\n",
       "    </tr>\n",
       "    <tr>\n",
       "      <td>4</td>\n",
       "      <td>2014</td>\n",
       "      <td>450000</td>\n",
       "      <td>141000</td>\n",
       "      <td>Diesel</td>\n",
       "      <td>Individual</td>\n",
       "      <td>Manual</td>\n",
       "      <td>Second Owner</td>\n",
       "      <td>2021</td>\n",
       "      <td>7</td>\n",
       "    </tr>\n",
       "  </tbody>\n",
       "</table>\n",
       "</div>"
      ],
      "text/plain": [
       "   year  selling_price  km_driven    fuel seller_type transmission  \\\n",
       "0  2007          60000      70000  Petrol  Individual       Manual   \n",
       "1  2007         135000      50000  Petrol  Individual       Manual   \n",
       "2  2012         600000     100000  Diesel  Individual       Manual   \n",
       "3  2017         250000      46000  Petrol  Individual       Manual   \n",
       "4  2014         450000     141000  Diesel  Individual       Manual   \n",
       "\n",
       "          owner  current_year  No_yr  \n",
       "0   First Owner          2021     14  \n",
       "1   First Owner          2021     14  \n",
       "2   First Owner          2021      9  \n",
       "3   First Owner          2021      4  \n",
       "4  Second Owner          2021      7  "
      ]
     },
     "execution_count": 25,
     "metadata": {},
     "output_type": "execute_result"
    }
   ],
   "source": [
    "final_dataset.head()"
   ]
  },
  {
   "cell_type": "code",
   "execution_count": 26,
   "metadata": {},
   "outputs": [],
   "source": [
    "## Droping two columns 'Year' & 'Current_year'"
   ]
  },
  {
   "cell_type": "code",
   "execution_count": 30,
   "metadata": {},
   "outputs": [],
   "source": [
    "final_dataset.drop(['year'],axis=1,inplace=True)"
   ]
  },
  {
   "cell_type": "code",
   "execution_count": 29,
   "metadata": {},
   "outputs": [],
   "source": [
    "final_dataset.drop(['current_year'],axis=1,inplace=True)"
   ]
  },
  {
   "cell_type": "code",
   "execution_count": 31,
   "metadata": {},
   "outputs": [
    {
     "data": {
      "text/html": [
       "<div>\n",
       "<style scoped>\n",
       "    .dataframe tbody tr th:only-of-type {\n",
       "        vertical-align: middle;\n",
       "    }\n",
       "\n",
       "    .dataframe tbody tr th {\n",
       "        vertical-align: top;\n",
       "    }\n",
       "\n",
       "    .dataframe thead th {\n",
       "        text-align: right;\n",
       "    }\n",
       "</style>\n",
       "<table border=\"1\" class=\"dataframe\">\n",
       "  <thead>\n",
       "    <tr style=\"text-align: right;\">\n",
       "      <th></th>\n",
       "      <th>selling_price</th>\n",
       "      <th>km_driven</th>\n",
       "      <th>fuel</th>\n",
       "      <th>seller_type</th>\n",
       "      <th>transmission</th>\n",
       "      <th>owner</th>\n",
       "      <th>No_yr</th>\n",
       "    </tr>\n",
       "  </thead>\n",
       "  <tbody>\n",
       "    <tr>\n",
       "      <td>0</td>\n",
       "      <td>60000</td>\n",
       "      <td>70000</td>\n",
       "      <td>Petrol</td>\n",
       "      <td>Individual</td>\n",
       "      <td>Manual</td>\n",
       "      <td>First Owner</td>\n",
       "      <td>14</td>\n",
       "    </tr>\n",
       "    <tr>\n",
       "      <td>1</td>\n",
       "      <td>135000</td>\n",
       "      <td>50000</td>\n",
       "      <td>Petrol</td>\n",
       "      <td>Individual</td>\n",
       "      <td>Manual</td>\n",
       "      <td>First Owner</td>\n",
       "      <td>14</td>\n",
       "    </tr>\n",
       "    <tr>\n",
       "      <td>2</td>\n",
       "      <td>600000</td>\n",
       "      <td>100000</td>\n",
       "      <td>Diesel</td>\n",
       "      <td>Individual</td>\n",
       "      <td>Manual</td>\n",
       "      <td>First Owner</td>\n",
       "      <td>9</td>\n",
       "    </tr>\n",
       "    <tr>\n",
       "      <td>3</td>\n",
       "      <td>250000</td>\n",
       "      <td>46000</td>\n",
       "      <td>Petrol</td>\n",
       "      <td>Individual</td>\n",
       "      <td>Manual</td>\n",
       "      <td>First Owner</td>\n",
       "      <td>4</td>\n",
       "    </tr>\n",
       "    <tr>\n",
       "      <td>4</td>\n",
       "      <td>450000</td>\n",
       "      <td>141000</td>\n",
       "      <td>Diesel</td>\n",
       "      <td>Individual</td>\n",
       "      <td>Manual</td>\n",
       "      <td>Second Owner</td>\n",
       "      <td>7</td>\n",
       "    </tr>\n",
       "  </tbody>\n",
       "</table>\n",
       "</div>"
      ],
      "text/plain": [
       "   selling_price  km_driven    fuel seller_type transmission         owner  \\\n",
       "0          60000      70000  Petrol  Individual       Manual   First Owner   \n",
       "1         135000      50000  Petrol  Individual       Manual   First Owner   \n",
       "2         600000     100000  Diesel  Individual       Manual   First Owner   \n",
       "3         250000      46000  Petrol  Individual       Manual   First Owner   \n",
       "4         450000     141000  Diesel  Individual       Manual  Second Owner   \n",
       "\n",
       "   No_yr  \n",
       "0     14  \n",
       "1     14  \n",
       "2      9  \n",
       "3      4  \n",
       "4      7  "
      ]
     },
     "execution_count": 31,
     "metadata": {},
     "output_type": "execute_result"
    }
   ],
   "source": [
    "final_dataset.head()"
   ]
  },
  {
   "cell_type": "code",
   "execution_count": 32,
   "metadata": {},
   "outputs": [
    {
     "data": {
      "text/plain": [
       "(4340, 7)"
      ]
     },
     "execution_count": 32,
     "metadata": {},
     "output_type": "execute_result"
    }
   ],
   "source": [
    "final_dataset.shape"
   ]
  },
  {
   "cell_type": "markdown",
   "metadata": {},
   "source": [
    "## Creating dummy variable"
   ]
  },
  {
   "cell_type": "code",
   "execution_count": 34,
   "metadata": {},
   "outputs": [],
   "source": [
    "final_dataset=pd.get_dummies(final_dataset,drop_first=True)"
   ]
  },
  {
   "cell_type": "code",
   "execution_count": 35,
   "metadata": {},
   "outputs": [
    {
     "data": {
      "text/html": [
       "<div>\n",
       "<style scoped>\n",
       "    .dataframe tbody tr th:only-of-type {\n",
       "        vertical-align: middle;\n",
       "    }\n",
       "\n",
       "    .dataframe tbody tr th {\n",
       "        vertical-align: top;\n",
       "    }\n",
       "\n",
       "    .dataframe thead th {\n",
       "        text-align: right;\n",
       "    }\n",
       "</style>\n",
       "<table border=\"1\" class=\"dataframe\">\n",
       "  <thead>\n",
       "    <tr style=\"text-align: right;\">\n",
       "      <th></th>\n",
       "      <th>selling_price</th>\n",
       "      <th>km_driven</th>\n",
       "      <th>No_yr</th>\n",
       "      <th>fuel_Diesel</th>\n",
       "      <th>fuel_Electric</th>\n",
       "      <th>fuel_LPG</th>\n",
       "      <th>fuel_Petrol</th>\n",
       "      <th>seller_type_Individual</th>\n",
       "      <th>seller_type_Trustmark Dealer</th>\n",
       "      <th>transmission_Manual</th>\n",
       "      <th>owner_Fourth &amp; Above Owner</th>\n",
       "      <th>owner_Second Owner</th>\n",
       "      <th>owner_Test Drive Car</th>\n",
       "      <th>owner_Third Owner</th>\n",
       "    </tr>\n",
       "  </thead>\n",
       "  <tbody>\n",
       "    <tr>\n",
       "      <td>0</td>\n",
       "      <td>60000</td>\n",
       "      <td>70000</td>\n",
       "      <td>14</td>\n",
       "      <td>0</td>\n",
       "      <td>0</td>\n",
       "      <td>0</td>\n",
       "      <td>1</td>\n",
       "      <td>1</td>\n",
       "      <td>0</td>\n",
       "      <td>1</td>\n",
       "      <td>0</td>\n",
       "      <td>0</td>\n",
       "      <td>0</td>\n",
       "      <td>0</td>\n",
       "    </tr>\n",
       "    <tr>\n",
       "      <td>1</td>\n",
       "      <td>135000</td>\n",
       "      <td>50000</td>\n",
       "      <td>14</td>\n",
       "      <td>0</td>\n",
       "      <td>0</td>\n",
       "      <td>0</td>\n",
       "      <td>1</td>\n",
       "      <td>1</td>\n",
       "      <td>0</td>\n",
       "      <td>1</td>\n",
       "      <td>0</td>\n",
       "      <td>0</td>\n",
       "      <td>0</td>\n",
       "      <td>0</td>\n",
       "    </tr>\n",
       "    <tr>\n",
       "      <td>2</td>\n",
       "      <td>600000</td>\n",
       "      <td>100000</td>\n",
       "      <td>9</td>\n",
       "      <td>1</td>\n",
       "      <td>0</td>\n",
       "      <td>0</td>\n",
       "      <td>0</td>\n",
       "      <td>1</td>\n",
       "      <td>0</td>\n",
       "      <td>1</td>\n",
       "      <td>0</td>\n",
       "      <td>0</td>\n",
       "      <td>0</td>\n",
       "      <td>0</td>\n",
       "    </tr>\n",
       "    <tr>\n",
       "      <td>3</td>\n",
       "      <td>250000</td>\n",
       "      <td>46000</td>\n",
       "      <td>4</td>\n",
       "      <td>0</td>\n",
       "      <td>0</td>\n",
       "      <td>0</td>\n",
       "      <td>1</td>\n",
       "      <td>1</td>\n",
       "      <td>0</td>\n",
       "      <td>1</td>\n",
       "      <td>0</td>\n",
       "      <td>0</td>\n",
       "      <td>0</td>\n",
       "      <td>0</td>\n",
       "    </tr>\n",
       "    <tr>\n",
       "      <td>4</td>\n",
       "      <td>450000</td>\n",
       "      <td>141000</td>\n",
       "      <td>7</td>\n",
       "      <td>1</td>\n",
       "      <td>0</td>\n",
       "      <td>0</td>\n",
       "      <td>0</td>\n",
       "      <td>1</td>\n",
       "      <td>0</td>\n",
       "      <td>1</td>\n",
       "      <td>0</td>\n",
       "      <td>1</td>\n",
       "      <td>0</td>\n",
       "      <td>0</td>\n",
       "    </tr>\n",
       "  </tbody>\n",
       "</table>\n",
       "</div>"
      ],
      "text/plain": [
       "   selling_price  km_driven  No_yr  fuel_Diesel  fuel_Electric  fuel_LPG  \\\n",
       "0          60000      70000     14            0              0         0   \n",
       "1         135000      50000     14            0              0         0   \n",
       "2         600000     100000      9            1              0         0   \n",
       "3         250000      46000      4            0              0         0   \n",
       "4         450000     141000      7            1              0         0   \n",
       "\n",
       "   fuel_Petrol  seller_type_Individual  seller_type_Trustmark Dealer  \\\n",
       "0            1                       1                             0   \n",
       "1            1                       1                             0   \n",
       "2            0                       1                             0   \n",
       "3            1                       1                             0   \n",
       "4            0                       1                             0   \n",
       "\n",
       "   transmission_Manual  owner_Fourth & Above Owner  owner_Second Owner  \\\n",
       "0                    1                           0                   0   \n",
       "1                    1                           0                   0   \n",
       "2                    1                           0                   0   \n",
       "3                    1                           0                   0   \n",
       "4                    1                           0                   1   \n",
       "\n",
       "   owner_Test Drive Car  owner_Third Owner  \n",
       "0                     0                  0  \n",
       "1                     0                  0  \n",
       "2                     0                  0  \n",
       "3                     0                  0  \n",
       "4                     0                  0  "
      ]
     },
     "execution_count": 35,
     "metadata": {},
     "output_type": "execute_result"
    }
   ],
   "source": [
    "final_dataset.head()"
   ]
  },
  {
   "cell_type": "code",
   "execution_count": 36,
   "metadata": {},
   "outputs": [
    {
     "data": {
      "text/plain": [
       "(4340, 14)"
      ]
     },
     "execution_count": 36,
     "metadata": {},
     "output_type": "execute_result"
    }
   ],
   "source": [
    "final_dataset.shape"
   ]
  },
  {
   "cell_type": "code",
   "execution_count": 37,
   "metadata": {},
   "outputs": [],
   "source": [
    "## finding corelation"
   ]
  },
  {
   "cell_type": "code",
   "execution_count": 38,
   "metadata": {},
   "outputs": [
    {
     "data": {
      "text/html": [
       "<div>\n",
       "<style scoped>\n",
       "    .dataframe tbody tr th:only-of-type {\n",
       "        vertical-align: middle;\n",
       "    }\n",
       "\n",
       "    .dataframe tbody tr th {\n",
       "        vertical-align: top;\n",
       "    }\n",
       "\n",
       "    .dataframe thead th {\n",
       "        text-align: right;\n",
       "    }\n",
       "</style>\n",
       "<table border=\"1\" class=\"dataframe\">\n",
       "  <thead>\n",
       "    <tr style=\"text-align: right;\">\n",
       "      <th></th>\n",
       "      <th>selling_price</th>\n",
       "      <th>km_driven</th>\n",
       "      <th>No_yr</th>\n",
       "      <th>fuel_Diesel</th>\n",
       "      <th>fuel_Electric</th>\n",
       "      <th>fuel_LPG</th>\n",
       "      <th>fuel_Petrol</th>\n",
       "      <th>seller_type_Individual</th>\n",
       "      <th>seller_type_Trustmark Dealer</th>\n",
       "      <th>transmission_Manual</th>\n",
       "      <th>owner_Fourth &amp; Above Owner</th>\n",
       "      <th>owner_Second Owner</th>\n",
       "      <th>owner_Test Drive Car</th>\n",
       "      <th>owner_Third Owner</th>\n",
       "    </tr>\n",
       "  </thead>\n",
       "  <tbody>\n",
       "    <tr>\n",
       "      <td>selling_price</td>\n",
       "      <td>1.000000</td>\n",
       "      <td>-0.192289</td>\n",
       "      <td>-0.413922</td>\n",
       "      <td>0.282947</td>\n",
       "      <td>-0.005095</td>\n",
       "      <td>-0.042434</td>\n",
       "      <td>-0.269453</td>\n",
       "      <td>-0.236798</td>\n",
       "      <td>0.110176</td>\n",
       "      <td>-0.530205</td>\n",
       "      <td>-0.078725</td>\n",
       "      <td>-0.161986</td>\n",
       "      <td>0.048799</td>\n",
       "      <td>-0.111326</td>\n",
       "    </tr>\n",
       "    <tr>\n",
       "      <td>km_driven</td>\n",
       "      <td>-0.192289</td>\n",
       "      <td>1.000000</td>\n",
       "      <td>0.419688</td>\n",
       "      <td>0.285396</td>\n",
       "      <td>-0.001372</td>\n",
       "      <td>0.036652</td>\n",
       "      <td>-0.291139</td>\n",
       "      <td>0.182663</td>\n",
       "      <td>-0.089858</td>\n",
       "      <td>0.120226</td>\n",
       "      <td>0.097349</td>\n",
       "      <td>0.195203</td>\n",
       "      <td>-0.083445</td>\n",
       "      <td>0.194713</td>\n",
       "    </tr>\n",
       "    <tr>\n",
       "      <td>No_yr</td>\n",
       "      <td>-0.413922</td>\n",
       "      <td>0.419688</td>\n",
       "      <td>1.000000</td>\n",
       "      <td>-0.121424</td>\n",
       "      <td>0.025540</td>\n",
       "      <td>0.051266</td>\n",
       "      <td>0.114908</td>\n",
       "      <td>0.173703</td>\n",
       "      <td>-0.100225</td>\n",
       "      <td>0.143800</td>\n",
       "      <td>0.186361</td>\n",
       "      <td>0.292349</td>\n",
       "      <td>-0.095795</td>\n",
       "      <td>0.244308</td>\n",
       "    </tr>\n",
       "    <tr>\n",
       "      <td>fuel_Diesel</td>\n",
       "      <td>0.282947</td>\n",
       "      <td>0.285396</td>\n",
       "      <td>-0.121424</td>\n",
       "      <td>1.000000</td>\n",
       "      <td>-0.015063</td>\n",
       "      <td>-0.072422</td>\n",
       "      <td>-0.970934</td>\n",
       "      <td>-0.035314</td>\n",
       "      <td>-0.007911</td>\n",
       "      <td>-0.048098</td>\n",
       "      <td>-0.021054</td>\n",
       "      <td>0.003524</td>\n",
       "      <td>-0.010575</td>\n",
       "      <td>0.009373</td>\n",
       "    </tr>\n",
       "    <tr>\n",
       "      <td>fuel_Electric</td>\n",
       "      <td>-0.005095</td>\n",
       "      <td>-0.001372</td>\n",
       "      <td>0.025540</td>\n",
       "      <td>-0.015063</td>\n",
       "      <td>1.000000</td>\n",
       "      <td>-0.001108</td>\n",
       "      <td>-0.014856</td>\n",
       "      <td>-0.026118</td>\n",
       "      <td>-0.002355</td>\n",
       "      <td>-0.044746</td>\n",
       "      <td>-0.002094</td>\n",
       "      <td>0.025960</td>\n",
       "      <td>-0.000952</td>\n",
       "      <td>-0.004166</td>\n",
       "    </tr>\n",
       "    <tr>\n",
       "      <td>fuel_LPG</td>\n",
       "      <td>-0.042434</td>\n",
       "      <td>0.036652</td>\n",
       "      <td>0.051266</td>\n",
       "      <td>-0.072422</td>\n",
       "      <td>-0.001108</td>\n",
       "      <td>1.000000</td>\n",
       "      <td>-0.071427</td>\n",
       "      <td>0.035122</td>\n",
       "      <td>-0.011324</td>\n",
       "      <td>0.024764</td>\n",
       "      <td>0.013384</td>\n",
       "      <td>0.030141</td>\n",
       "      <td>-0.004577</td>\n",
       "      <td>0.004836</td>\n",
       "    </tr>\n",
       "    <tr>\n",
       "      <td>fuel_Petrol</td>\n",
       "      <td>-0.269453</td>\n",
       "      <td>-0.291139</td>\n",
       "      <td>0.114908</td>\n",
       "      <td>-0.970934</td>\n",
       "      <td>-0.014856</td>\n",
       "      <td>-0.071427</td>\n",
       "      <td>1.000000</td>\n",
       "      <td>0.029845</td>\n",
       "      <td>0.012489</td>\n",
       "      <td>0.039614</td>\n",
       "      <td>0.011502</td>\n",
       "      <td>-0.012717</td>\n",
       "      <td>0.012427</td>\n",
       "      <td>-0.008502</td>\n",
       "    </tr>\n",
       "    <tr>\n",
       "      <td>seller_type_Individual</td>\n",
       "      <td>-0.236798</td>\n",
       "      <td>0.182663</td>\n",
       "      <td>0.173703</td>\n",
       "      <td>-0.035314</td>\n",
       "      <td>-0.026118</td>\n",
       "      <td>0.035122</td>\n",
       "      <td>0.029845</td>\n",
       "      <td>1.000000</td>\n",
       "      <td>-0.266904</td>\n",
       "      <td>0.214163</td>\n",
       "      <td>0.072322</td>\n",
       "      <td>0.186573</td>\n",
       "      <td>-0.107886</td>\n",
       "      <td>0.140823</td>\n",
       "    </tr>\n",
       "    <tr>\n",
       "      <td>seller_type_Trustmark Dealer</td>\n",
       "      <td>0.110176</td>\n",
       "      <td>-0.089858</td>\n",
       "      <td>-0.100225</td>\n",
       "      <td>-0.007911</td>\n",
       "      <td>-0.002355</td>\n",
       "      <td>-0.011324</td>\n",
       "      <td>0.012489</td>\n",
       "      <td>-0.266904</td>\n",
       "      <td>1.000000</td>\n",
       "      <td>-0.042346</td>\n",
       "      <td>-0.021395</td>\n",
       "      <td>-0.076764</td>\n",
       "      <td>-0.009729</td>\n",
       "      <td>-0.042578</td>\n",
       "    </tr>\n",
       "    <tr>\n",
       "      <td>transmission_Manual</td>\n",
       "      <td>-0.530205</td>\n",
       "      <td>0.120226</td>\n",
       "      <td>0.143800</td>\n",
       "      <td>-0.048098</td>\n",
       "      <td>-0.044746</td>\n",
       "      <td>0.024764</td>\n",
       "      <td>0.039614</td>\n",
       "      <td>0.214163</td>\n",
       "      <td>-0.042346</td>\n",
       "      <td>1.000000</td>\n",
       "      <td>0.035597</td>\n",
       "      <td>0.068068</td>\n",
       "      <td>0.009152</td>\n",
       "      <td>0.030802</td>\n",
       "    </tr>\n",
       "    <tr>\n",
       "      <td>owner_Fourth &amp; Above Owner</td>\n",
       "      <td>-0.078725</td>\n",
       "      <td>0.097349</td>\n",
       "      <td>0.186361</td>\n",
       "      <td>-0.021054</td>\n",
       "      <td>-0.002094</td>\n",
       "      <td>0.013384</td>\n",
       "      <td>0.011502</td>\n",
       "      <td>0.072322</td>\n",
       "      <td>-0.021395</td>\n",
       "      <td>0.035597</td>\n",
       "      <td>1.000000</td>\n",
       "      <td>-0.080648</td>\n",
       "      <td>-0.008648</td>\n",
       "      <td>-0.037849</td>\n",
       "    </tr>\n",
       "    <tr>\n",
       "      <td>owner_Second Owner</td>\n",
       "      <td>-0.161986</td>\n",
       "      <td>0.195203</td>\n",
       "      <td>0.292349</td>\n",
       "      <td>0.003524</td>\n",
       "      <td>0.025960</td>\n",
       "      <td>0.030141</td>\n",
       "      <td>-0.012717</td>\n",
       "      <td>0.186573</td>\n",
       "      <td>-0.076764</td>\n",
       "      <td>0.068068</td>\n",
       "      <td>-0.080648</td>\n",
       "      <td>1.000000</td>\n",
       "      <td>-0.036672</td>\n",
       "      <td>-0.160498</td>\n",
       "    </tr>\n",
       "    <tr>\n",
       "      <td>owner_Test Drive Car</td>\n",
       "      <td>0.048799</td>\n",
       "      <td>-0.083445</td>\n",
       "      <td>-0.095795</td>\n",
       "      <td>-0.010575</td>\n",
       "      <td>-0.000952</td>\n",
       "      <td>-0.004577</td>\n",
       "      <td>0.012427</td>\n",
       "      <td>-0.107886</td>\n",
       "      <td>-0.009729</td>\n",
       "      <td>0.009152</td>\n",
       "      <td>-0.008648</td>\n",
       "      <td>-0.036672</td>\n",
       "      <td>1.000000</td>\n",
       "      <td>-0.017210</td>\n",
       "    </tr>\n",
       "    <tr>\n",
       "      <td>owner_Third Owner</td>\n",
       "      <td>-0.111326</td>\n",
       "      <td>0.194713</td>\n",
       "      <td>0.244308</td>\n",
       "      <td>0.009373</td>\n",
       "      <td>-0.004166</td>\n",
       "      <td>0.004836</td>\n",
       "      <td>-0.008502</td>\n",
       "      <td>0.140823</td>\n",
       "      <td>-0.042578</td>\n",
       "      <td>0.030802</td>\n",
       "      <td>-0.037849</td>\n",
       "      <td>-0.160498</td>\n",
       "      <td>-0.017210</td>\n",
       "      <td>1.000000</td>\n",
       "    </tr>\n",
       "  </tbody>\n",
       "</table>\n",
       "</div>"
      ],
      "text/plain": [
       "                              selling_price  km_driven     No_yr  fuel_Diesel  \\\n",
       "selling_price                      1.000000  -0.192289 -0.413922     0.282947   \n",
       "km_driven                         -0.192289   1.000000  0.419688     0.285396   \n",
       "No_yr                             -0.413922   0.419688  1.000000    -0.121424   \n",
       "fuel_Diesel                        0.282947   0.285396 -0.121424     1.000000   \n",
       "fuel_Electric                     -0.005095  -0.001372  0.025540    -0.015063   \n",
       "fuel_LPG                          -0.042434   0.036652  0.051266    -0.072422   \n",
       "fuel_Petrol                       -0.269453  -0.291139  0.114908    -0.970934   \n",
       "seller_type_Individual            -0.236798   0.182663  0.173703    -0.035314   \n",
       "seller_type_Trustmark Dealer       0.110176  -0.089858 -0.100225    -0.007911   \n",
       "transmission_Manual               -0.530205   0.120226  0.143800    -0.048098   \n",
       "owner_Fourth & Above Owner        -0.078725   0.097349  0.186361    -0.021054   \n",
       "owner_Second Owner                -0.161986   0.195203  0.292349     0.003524   \n",
       "owner_Test Drive Car               0.048799  -0.083445 -0.095795    -0.010575   \n",
       "owner_Third Owner                 -0.111326   0.194713  0.244308     0.009373   \n",
       "\n",
       "                              fuel_Electric  fuel_LPG  fuel_Petrol  \\\n",
       "selling_price                     -0.005095 -0.042434    -0.269453   \n",
       "km_driven                         -0.001372  0.036652    -0.291139   \n",
       "No_yr                              0.025540  0.051266     0.114908   \n",
       "fuel_Diesel                       -0.015063 -0.072422    -0.970934   \n",
       "fuel_Electric                      1.000000 -0.001108    -0.014856   \n",
       "fuel_LPG                          -0.001108  1.000000    -0.071427   \n",
       "fuel_Petrol                       -0.014856 -0.071427     1.000000   \n",
       "seller_type_Individual            -0.026118  0.035122     0.029845   \n",
       "seller_type_Trustmark Dealer      -0.002355 -0.011324     0.012489   \n",
       "transmission_Manual               -0.044746  0.024764     0.039614   \n",
       "owner_Fourth & Above Owner        -0.002094  0.013384     0.011502   \n",
       "owner_Second Owner                 0.025960  0.030141    -0.012717   \n",
       "owner_Test Drive Car              -0.000952 -0.004577     0.012427   \n",
       "owner_Third Owner                 -0.004166  0.004836    -0.008502   \n",
       "\n",
       "                              seller_type_Individual  \\\n",
       "selling_price                              -0.236798   \n",
       "km_driven                                   0.182663   \n",
       "No_yr                                       0.173703   \n",
       "fuel_Diesel                                -0.035314   \n",
       "fuel_Electric                              -0.026118   \n",
       "fuel_LPG                                    0.035122   \n",
       "fuel_Petrol                                 0.029845   \n",
       "seller_type_Individual                      1.000000   \n",
       "seller_type_Trustmark Dealer               -0.266904   \n",
       "transmission_Manual                         0.214163   \n",
       "owner_Fourth & Above Owner                  0.072322   \n",
       "owner_Second Owner                          0.186573   \n",
       "owner_Test Drive Car                       -0.107886   \n",
       "owner_Third Owner                           0.140823   \n",
       "\n",
       "                              seller_type_Trustmark Dealer  \\\n",
       "selling_price                                     0.110176   \n",
       "km_driven                                        -0.089858   \n",
       "No_yr                                            -0.100225   \n",
       "fuel_Diesel                                      -0.007911   \n",
       "fuel_Electric                                    -0.002355   \n",
       "fuel_LPG                                         -0.011324   \n",
       "fuel_Petrol                                       0.012489   \n",
       "seller_type_Individual                           -0.266904   \n",
       "seller_type_Trustmark Dealer                      1.000000   \n",
       "transmission_Manual                              -0.042346   \n",
       "owner_Fourth & Above Owner                       -0.021395   \n",
       "owner_Second Owner                               -0.076764   \n",
       "owner_Test Drive Car                             -0.009729   \n",
       "owner_Third Owner                                -0.042578   \n",
       "\n",
       "                              transmission_Manual  owner_Fourth & Above Owner  \\\n",
       "selling_price                           -0.530205                   -0.078725   \n",
       "km_driven                                0.120226                    0.097349   \n",
       "No_yr                                    0.143800                    0.186361   \n",
       "fuel_Diesel                             -0.048098                   -0.021054   \n",
       "fuel_Electric                           -0.044746                   -0.002094   \n",
       "fuel_LPG                                 0.024764                    0.013384   \n",
       "fuel_Petrol                              0.039614                    0.011502   \n",
       "seller_type_Individual                   0.214163                    0.072322   \n",
       "seller_type_Trustmark Dealer            -0.042346                   -0.021395   \n",
       "transmission_Manual                      1.000000                    0.035597   \n",
       "owner_Fourth & Above Owner               0.035597                    1.000000   \n",
       "owner_Second Owner                       0.068068                   -0.080648   \n",
       "owner_Test Drive Car                     0.009152                   -0.008648   \n",
       "owner_Third Owner                        0.030802                   -0.037849   \n",
       "\n",
       "                              owner_Second Owner  owner_Test Drive Car  \\\n",
       "selling_price                          -0.161986              0.048799   \n",
       "km_driven                               0.195203             -0.083445   \n",
       "No_yr                                   0.292349             -0.095795   \n",
       "fuel_Diesel                             0.003524             -0.010575   \n",
       "fuel_Electric                           0.025960             -0.000952   \n",
       "fuel_LPG                                0.030141             -0.004577   \n",
       "fuel_Petrol                            -0.012717              0.012427   \n",
       "seller_type_Individual                  0.186573             -0.107886   \n",
       "seller_type_Trustmark Dealer           -0.076764             -0.009729   \n",
       "transmission_Manual                     0.068068              0.009152   \n",
       "owner_Fourth & Above Owner             -0.080648             -0.008648   \n",
       "owner_Second Owner                      1.000000             -0.036672   \n",
       "owner_Test Drive Car                   -0.036672              1.000000   \n",
       "owner_Third Owner                      -0.160498             -0.017210   \n",
       "\n",
       "                              owner_Third Owner  \n",
       "selling_price                         -0.111326  \n",
       "km_driven                              0.194713  \n",
       "No_yr                                  0.244308  \n",
       "fuel_Diesel                            0.009373  \n",
       "fuel_Electric                         -0.004166  \n",
       "fuel_LPG                               0.004836  \n",
       "fuel_Petrol                           -0.008502  \n",
       "seller_type_Individual                 0.140823  \n",
       "seller_type_Trustmark Dealer          -0.042578  \n",
       "transmission_Manual                    0.030802  \n",
       "owner_Fourth & Above Owner            -0.037849  \n",
       "owner_Second Owner                    -0.160498  \n",
       "owner_Test Drive Car                  -0.017210  \n",
       "owner_Third Owner                      1.000000  "
      ]
     },
     "execution_count": 38,
     "metadata": {},
     "output_type": "execute_result"
    }
   ],
   "source": [
    "final_dataset.corr()"
   ]
  },
  {
   "cell_type": "code",
   "execution_count": 39,
   "metadata": {},
   "outputs": [],
   "source": [
    "import seaborn as sns"
   ]
  },
  {
   "cell_type": "code",
   "execution_count": 41,
   "metadata": {},
   "outputs": [
    {
     "data": {
      "image/png": "[encoded data removed]",
      "text/plain": [
       "<Figure size 1440x1440 with 2 Axes>"
      ]
     },
     "metadata": {
      "needs_background": "light"
     },
     "output_type": "display_data"
    }
   ],
   "source": [
    "corrmat=final_dataset.corr()\n",
    "top_corr_features=corrmat.index\n",
    "plt.figure(figsize=(20,20))\n",
    "#plotting a heatmap\n",
    "g=sns.heatmap(final_dataset[top_corr_features].corr(),annot=True,cmap='RdYlGn')"
   ]
  },
  {
   "cell_type": "code",
   "execution_count": 42,
   "metadata": {},
   "outputs": [
    {
     "data": {
      "text/html": [
       "<div>\n",
       "<style scoped>\n",
       "    .dataframe tbody tr th:only-of-type {\n",
       "        vertical-align: middle;\n",
       "    }\n",
       "\n",
       "    .dataframe tbody tr th {\n",
       "        vertical-align: top;\n",
       "    }\n",
       "\n",
       "    .dataframe thead th {\n",
       "        text-align: right;\n",
       "    }\n",
       "</style>\n",
       "<table border=\"1\" class=\"dataframe\">\n",
       "  <thead>\n",
       "    <tr style=\"text-align: right;\">\n",
       "      <th></th>\n",
       "      <th>selling_price</th>\n",
       "      <th>km_driven</th>\n",
       "      <th>No_yr</th>\n",
       "      <th>fuel_Diesel</th>\n",
       "      <th>fuel_Electric</th>\n",
       "      <th>fuel_LPG</th>\n",
       "      <th>fuel_Petrol</th>\n",
       "      <th>seller_type_Individual</th>\n",
       "      <th>seller_type_Trustmark Dealer</th>\n",
       "      <th>transmission_Manual</th>\n",
       "      <th>owner_Fourth &amp; Above Owner</th>\n",
       "      <th>owner_Second Owner</th>\n",
       "      <th>owner_Test Drive Car</th>\n",
       "      <th>owner_Third Owner</th>\n",
       "    </tr>\n",
       "  </thead>\n",
       "  <tbody>\n",
       "    <tr>\n",
       "      <td>0</td>\n",
       "      <td>60000</td>\n",
       "      <td>70000</td>\n",
       "      <td>14</td>\n",
       "      <td>0</td>\n",
       "      <td>0</td>\n",
       "      <td>0</td>\n",
       "      <td>1</td>\n",
       "      <td>1</td>\n",
       "      <td>0</td>\n",
       "      <td>1</td>\n",
       "      <td>0</td>\n",
       "      <td>0</td>\n",
       "      <td>0</td>\n",
       "      <td>0</td>\n",
       "    </tr>\n",
       "    <tr>\n",
       "      <td>1</td>\n",
       "      <td>135000</td>\n",
       "      <td>50000</td>\n",
       "      <td>14</td>\n",
       "      <td>0</td>\n",
       "      <td>0</td>\n",
       "      <td>0</td>\n",
       "      <td>1</td>\n",
       "      <td>1</td>\n",
       "      <td>0</td>\n",
       "      <td>1</td>\n",
       "      <td>0</td>\n",
       "      <td>0</td>\n",
       "      <td>0</td>\n",
       "      <td>0</td>\n",
       "    </tr>\n",
       "    <tr>\n",
       "      <td>2</td>\n",
       "      <td>600000</td>\n",
       "      <td>100000</td>\n",
       "      <td>9</td>\n",
       "      <td>1</td>\n",
       "      <td>0</td>\n",
       "      <td>0</td>\n",
       "      <td>0</td>\n",
       "      <td>1</td>\n",
       "      <td>0</td>\n",
       "      <td>1</td>\n",
       "      <td>0</td>\n",
       "      <td>0</td>\n",
       "      <td>0</td>\n",
       "      <td>0</td>\n",
       "    </tr>\n",
       "    <tr>\n",
       "      <td>3</td>\n",
       "      <td>250000</td>\n",
       "      <td>46000</td>\n",
       "      <td>4</td>\n",
       "      <td>0</td>\n",
       "      <td>0</td>\n",
       "      <td>0</td>\n",
       "      <td>1</td>\n",
       "      <td>1</td>\n",
       "      <td>0</td>\n",
       "      <td>1</td>\n",
       "      <td>0</td>\n",
       "      <td>0</td>\n",
       "      <td>0</td>\n",
       "      <td>0</td>\n",
       "    </tr>\n",
       "    <tr>\n",
       "      <td>4</td>\n",
       "      <td>450000</td>\n",
       "      <td>141000</td>\n",
       "      <td>7</td>\n",
       "      <td>1</td>\n",
       "      <td>0</td>\n",
       "      <td>0</td>\n",
       "      <td>0</td>\n",
       "      <td>1</td>\n",
       "      <td>0</td>\n",
       "      <td>1</td>\n",
       "      <td>0</td>\n",
       "      <td>1</td>\n",
       "      <td>0</td>\n",
       "      <td>0</td>\n",
       "    </tr>\n",
       "  </tbody>\n",
       "</table>\n",
       "</div>"
      ],
      "text/plain": [
       "   selling_price  km_driven  No_yr  fuel_Diesel  fuel_Electric  fuel_LPG  \\\n",
       "0          60000      70000     14            0              0         0   \n",
       "1         135000      50000     14            0              0         0   \n",
       "2         600000     100000      9            1              0         0   \n",
       "3         250000      46000      4            0              0         0   \n",
       "4         450000     141000      7            1              0         0   \n",
       "\n",
       "   fuel_Petrol  seller_type_Individual  seller_type_Trustmark Dealer  \\\n",
       "0            1                       1                             0   \n",
       "1            1                       1                             0   \n",
       "2            0                       1                             0   \n",
       "3            1                       1                             0   \n",
       "4            0                       1                             0   \n",
       "\n",
       "   transmission_Manual  owner_Fourth & Above Owner  owner_Second Owner  \\\n",
       "0                    1                           0                   0   \n",
       "1                    1                           0                   0   \n",
       "2                    1                           0                   0   \n",
       "3                    1                           0                   0   \n",
       "4                    1                           0                   1   \n",
       "\n",
       "   owner_Test Drive Car  owner_Third Owner  \n",
       "0                     0                  0  \n",
       "1                     0                  0  \n",
       "2                     0                  0  \n",
       "3                     0                  0  \n",
       "4                     0                  0  "
      ]
     },
     "execution_count": 42,
     "metadata": {},
     "output_type": "execute_result"
    }
   ],
   "source": [
    "final_dataset.head()"
   ]
  },
  {
   "cell_type": "code",
   "execution_count": 46,
   "metadata": {},
   "outputs": [],
   "source": [
    "# independent and dependent features"
   ]
  },
  {
   "cell_type": "code",
   "execution_count": 44,
   "metadata": {},
   "outputs": [],
   "source": [
    "x=final_dataset.iloc[:,1:]\n",
    "y=final_dataset.iloc[:,0]"
   ]
  },
  {
   "cell_type": "code",
   "execution_count": 47,
   "metadata": {},
   "outputs": [
    {
     "data": {
      "text/plain": [
       "((4340, 13), (4340,))"
      ]
     },
     "execution_count": 47,
     "metadata": {},
     "output_type": "execute_result"
    }
   ],
   "source": [
    "x.shape,y.shape"
   ]
  },
  {
   "cell_type": "code",
   "execution_count": 48,
   "metadata": {},
   "outputs": [
    {
     "data": {
      "text/html": [
       "<div>\n",
       "<style scoped>\n",
       "    .dataframe tbody tr th:only-of-type {\n",
       "        vertical-align: middle;\n",
       "    }\n",
       "\n",
       "    .dataframe tbody tr th {\n",
       "        vertical-align: top;\n",
       "    }\n",
       "\n",
       "    .dataframe thead th {\n",
       "        text-align: right;\n",
       "    }\n",
       "</style>\n",
       "<table border=\"1\" class=\"dataframe\">\n",
       "  <thead>\n",
       "    <tr style=\"text-align: right;\">\n",
       "      <th></th>\n",
       "      <th>km_driven</th>\n",
       "      <th>No_yr</th>\n",
       "      <th>fuel_Diesel</th>\n",
       "      <th>fuel_Electric</th>\n",
       "      <th>fuel_LPG</th>\n",
       "      <th>fuel_Petrol</th>\n",
       "      <th>seller_type_Individual</th>\n",
       "      <th>seller_type_Trustmark Dealer</th>\n",
       "      <th>transmission_Manual</th>\n",
       "      <th>owner_Fourth &amp; Above Owner</th>\n",
       "      <th>owner_Second Owner</th>\n",
       "      <th>owner_Test Drive Car</th>\n",
       "      <th>owner_Third Owner</th>\n",
       "    </tr>\n",
       "  </thead>\n",
       "  <tbody>\n",
       "    <tr>\n",
       "      <td>0</td>\n",
       "      <td>70000</td>\n",
       "      <td>14</td>\n",
       "      <td>0</td>\n",
       "      <td>0</td>\n",
       "      <td>0</td>\n",
       "      <td>1</td>\n",
       "      <td>1</td>\n",
       "      <td>0</td>\n",
       "      <td>1</td>\n",
       "      <td>0</td>\n",
       "      <td>0</td>\n",
       "      <td>0</td>\n",
       "      <td>0</td>\n",
       "    </tr>\n",
       "    <tr>\n",
       "      <td>1</td>\n",
       "      <td>50000</td>\n",
       "      <td>14</td>\n",
       "      <td>0</td>\n",
       "      <td>0</td>\n",
       "      <td>0</td>\n",
       "      <td>1</td>\n",
       "      <td>1</td>\n",
       "      <td>0</td>\n",
       "      <td>1</td>\n",
       "      <td>0</td>\n",
       "      <td>0</td>\n",
       "      <td>0</td>\n",
       "      <td>0</td>\n",
       "    </tr>\n",
       "    <tr>\n",
       "      <td>2</td>\n",
       "      <td>100000</td>\n",
       "      <td>9</td>\n",
       "      <td>1</td>\n",
       "      <td>0</td>\n",
       "      <td>0</td>\n",
       "      <td>0</td>\n",
       "      <td>1</td>\n",
       "      <td>0</td>\n",
       "      <td>1</td>\n",
       "      <td>0</td>\n",
       "      <td>0</td>\n",
       "      <td>0</td>\n",
       "      <td>0</td>\n",
       "    </tr>\n",
       "    <tr>\n",
       "      <td>3</td>\n",
       "      <td>46000</td>\n",
       "      <td>4</td>\n",
       "      <td>0</td>\n",
       "      <td>0</td>\n",
       "      <td>0</td>\n",
       "      <td>1</td>\n",
       "      <td>1</td>\n",
       "      <td>0</td>\n",
       "      <td>1</td>\n",
       "      <td>0</td>\n",
       "      <td>0</td>\n",
       "      <td>0</td>\n",
       "      <td>0</td>\n",
       "    </tr>\n",
       "    <tr>\n",
       "      <td>4</td>\n",
       "      <td>141000</td>\n",
       "      <td>7</td>\n",
       "      <td>1</td>\n",
       "      <td>0</td>\n",
       "      <td>0</td>\n",
       "      <td>0</td>\n",
       "      <td>1</td>\n",
       "      <td>0</td>\n",
       "      <td>1</td>\n",
       "      <td>0</td>\n",
       "      <td>1</td>\n",
       "      <td>0</td>\n",
       "      <td>0</td>\n",
       "    </tr>\n",
       "  </tbody>\n",
       "</table>\n",
       "</div>"
      ],
      "text/plain": [
       "   km_driven  No_yr  fuel_Diesel  fuel_Electric  fuel_LPG  fuel_Petrol  \\\n",
       "0      70000     14            0              0         0            1   \n",
       "1      50000     14            0              0         0            1   \n",
       "2     100000      9            1              0         0            0   \n",
       "3      46000      4            0              0         0            1   \n",
       "4     141000      7            1              0         0            0   \n",
       "\n",
       "   seller_type_Individual  seller_type_Trustmark Dealer  transmission_Manual  \\\n",
       "0                       1                             0                    1   \n",
       "1                       1                             0                    1   \n",
       "2                       1                             0                    1   \n",
       "3                       1                             0                    1   \n",
       "4                       1                             0                    1   \n",
       "\n",
       "   owner_Fourth & Above Owner  owner_Second Owner  owner_Test Drive Car  \\\n",
       "0                           0                   0                     0   \n",
       "1                           0                   0                     0   \n",
       "2                           0                   0                     0   \n",
       "3                           0                   0                     0   \n",
       "4                           0                   1                     0   \n",
       "\n",
       "   owner_Third Owner  \n",
       "0                  0  \n",
       "1                  0  \n",
       "2                  0  \n",
       "3                  0  \n",
       "4                  0  "
      ]
     },
     "execution_count": 48,
     "metadata": {},
     "output_type": "execute_result"
    }
   ],
   "source": [
    "x.head()"
   ]
  },
  {
   "cell_type": "code",
   "execution_count": 49,
   "metadata": {},
   "outputs": [
    {
     "data": {
      "text/plain": [
       "0     60000\n",
       "1    135000\n",
       "2    600000\n",
       "3    250000\n",
       "4    450000\n",
       "Name: selling_price, dtype: int64"
      ]
     },
     "execution_count": 49,
     "metadata": {},
     "output_type": "execute_result"
    }
   ],
   "source": [
    "y.head()"
   ]
  },
  {
   "cell_type": "code",
   "execution_count": 50,
   "metadata": {},
   "outputs": [
    {
     "name": "stderr",
     "output_type": "stream",
     "text": [
      "C:\\Users\\Binayak\\Anaconda3\\lib\\site-packages\\sklearn\\ensemble\\forest.py:245: FutureWarning: The default value of n_estimators will change from 10 in version 0.20 to 100 in 0.22.\n",
      "  \"10 in version 0.20 to 100 in 0.22.\", FutureWarning)\n"
     ]
    },
    {
     "data": {
      "text/plain": [
       "ExtraTreesRegressor(bootstrap=False, criterion='mse', max_depth=None,\n",
       "                    max_features='auto', max_leaf_nodes=None,\n",
       "                    min_impurity_decrease=0.0, min_impurity_split=None,\n",
       "                    min_samples_leaf=1, min_samples_split=2,\n",
       "                    min_weight_fraction_leaf=0.0, n_estimators=10, n_jobs=None,\n",
       "                    oob_score=False, random_state=None, verbose=0,\n",
       "                    warm_start=False)"
      ]
     },
     "execution_count": 50,
     "metadata": {},
     "output_type": "execute_result"
    }
   ],
   "source": [
    "## Feature Importance\n",
    "\n",
    "from sklearn.ensemble import ExtraTreesRegressor\n",
    "model=ExtraTreesRegressor()\n",
    "model.fit(x,y)"
   ]
  },
  {
   "cell_type": "code",
   "execution_count": 51,
   "metadata": {},
   "outputs": [
    {
     "name": "stdout",
     "output_type": "stream",
     "text": [
      "[2.60009483e-01 2.34513630e-01 1.30940295e-01 4.04034684e-07\n",
      " 2.47568622e-05 2.25759216e-04 4.15389612e-02 6.51898797e-03\n",
      " 2.92827083e-01 1.28456798e-03 2.61528437e-02 8.46682179e-04\n",
      " 5.11654578e-03]\n"
     ]
    }
   ],
   "source": [
    "print(model.feature_importances_)"
   ]
  },
  {
   "cell_type": "code",
   "execution_count": 56,
   "metadata": {},
   "outputs": [
    {
     "data": {
      "image/png": "[encoded data removed]",
      "text/plain": [
       "<Figure size 432x288 with 1 Axes>"
      ]
     },
     "metadata": {
      "needs_background": "light"
     },
     "output_type": "display_data"
    }
   ],
   "source": [
    "# plotting important feature\n",
    "\n",
    "feat_importance=pd.Series(model.feature_importances_,index=x.columns)\n",
    "feat_importance.nlargest().plot(kind='barh')\n",
    "plt.show()"
   ]
  },
  {
   "cell_type": "code",
   "execution_count": 57,
   "metadata": {},
   "outputs": [],
   "source": [
    "## Dividing the Data"
   ]
  },
  {
   "cell_type": "code",
   "execution_count": 58,
   "metadata": {},
   "outputs": [],
   "source": [
    "from sklearn.model_selection import train_test_split\n",
    "x_train,x_test,y_train,y_test=train_test_split(x,y,test_size=0.2)"
   ]
  },
  {
   "cell_type": "code",
   "execution_count": 59,
   "metadata": {},
   "outputs": [
    {
     "data": {
      "text/plain": [
       "((3472, 13), (868, 13), (3472,), (868,))"
      ]
     },
     "execution_count": 59,
     "metadata": {},
     "output_type": "execute_result"
    }
   ],
   "source": [
    "x_train.shape,x_test.shape,y_train.shape,y_test.shape"
   ]
  },
  {
   "cell_type": "markdown",
   "metadata": {},
   "source": [
    "### Random Forest"
   ]
  },
  {
   "cell_type": "code",
   "execution_count": 60,
   "metadata": {},
   "outputs": [],
   "source": [
    "from sklearn.ensemble import RandomForestRegressor\n",
    "rf_random=RandomForestRegressor"
   ]
  },
  {
   "cell_type": "code",
   "execution_count": 61,
   "metadata": {},
   "outputs": [
    {
     "name": "stdout",
     "output_type": "stream",
     "text": [
      "[100, 200, 300, 400, 500, 600, 700, 800, 900, 1000, 1100, 1200]\n"
     ]
    }
   ],
   "source": [
    "## HyperParameter Tuning\n",
    "\n",
    "n_estimators = [int(x) for x in np.linspace(start = 100, stop = 1200, num = 12)]\n",
    "print(n_estimators)\n"
   ]
  },
  {
   "cell_type": "code",
   "execution_count": 62,
   "metadata": {},
   "outputs": [],
   "source": [
    "from sklearn.model_selection import RandomizedSearchCV"
   ]
  },
  {
   "cell_type": "code",
   "execution_count": 63,
   "metadata": {},
   "outputs": [],
   "source": [
    "#Randomized Search CV\n",
    "\n",
    "# Number of trees in random forest\n",
    "n_estimators = [int(x) for x in np.linspace(start = 100, stop = 1200, num = 12)]\n",
    "# Number of features to consider at every split\n",
    "max_features = ['auto', 'sqrt']\n",
    "# Maximum number of levels in tree\n",
    "max_depth = [int(x) for x in np.linspace(5, 30, num = 6)]\n",
    "# max_depth.append(None)\n",
    "# Minimum number of samples required to split a node\n",
    "min_samples_split = [2, 5, 10, 15, 100]\n",
    "# Minimum number of samples required at each leaf node\n",
    "min_samples_leaf = [1, 2, 5, 10]"
   ]
  },
  {
   "cell_type": "code",
   "execution_count": 64,
   "metadata": {},
   "outputs": [
    {
     "name": "stdout",
     "output_type": "stream",
     "text": [
      "{'n_estimators': [100, 200, 300, 400, 500, 600, 700, 800, 900, 1000, 1100, 1200], 'max_features': ['auto', 'sqrt'], 'max_depth': [5, 10, 15, 20, 25, 30], 'min_samples_split': [2, 5, 10, 15, 100], 'min_samples_leaf': [1, 2, 5, 10]}\n"
     ]
    }
   ],
   "source": [
    "# Create the random grid\n",
    "random_grid = {'n_estimators': n_estimators,\n",
    "               'max_features': max_features,\n",
    "               'max_depth': max_depth,\n",
    "               'min_samples_split': min_samples_split,\n",
    "               'min_samples_leaf': min_samples_leaf}\n",
    "\n",
    "print(random_grid)"
   ]
  },
  {
   "cell_type": "code",
   "execution_count": 65,
   "metadata": {},
   "outputs": [],
   "source": [
    "# Use the random grid to search for best hyperparameters\n",
    "# First create the base model to tune\n",
    "rf = RandomForestRegressor()"
   ]
  },
  {
   "cell_type": "code",
   "execution_count": 66,
   "metadata": {},
   "outputs": [],
   "source": [
    "# Random search of parameters, using 3 fold cross validation, \n",
    "# search across 100 different combinations\n",
    "rf_random = RandomizedSearchCV(estimator = rf, param_distributions = random_grid,scoring='neg_mean_squared_error', n_iter = 10, cv = 5, verbose=2, random_state=42, n_jobs = 1)"
   ]
  },
  {
   "cell_type": "code",
   "execution_count": 67,
   "metadata": {},
   "outputs": [
    {
     "name": "stdout",
     "output_type": "stream",
     "text": [
      "Fitting 5 folds for each of 10 candidates, totalling 50 fits\n",
      "[CV] n_estimators=900, min_samples_split=5, min_samples_leaf=5, max_features=sqrt, max_depth=10 \n"
     ]
    },
    {
     "name": "stderr",
     "output_type": "stream",
     "text": [
      "[Parallel(n_jobs=1)]: Using backend SequentialBackend with 1 concurrent workers.\n"
     ]
    },
    {
     "name": "stdout",
     "output_type": "stream",
     "text": [
      "[CV]  n_estimators=900, min_samples_split=5, min_samples_leaf=5, max_features=sqrt, max_depth=10, total=   3.4s\n",
      "[CV] n_estimators=900, min_samples_split=5, min_samples_leaf=5, max_features=sqrt, max_depth=10 \n"
     ]
    },
    {
     "name": "stderr",
     "output_type": "stream",
     "text": [
      "[Parallel(n_jobs=1)]: Done   1 out of   1 | elapsed:    3.3s remaining:    0.0s\n"
     ]
    },
    {
     "name": "stdout",
     "output_type": "stream",
     "text": [
      "[CV]  n_estimators=900, min_samples_split=5, min_samples_leaf=5, max_features=sqrt, max_depth=10, total=   3.4s\n",
      "[CV] n_estimators=900, min_samples_split=5, min_samples_leaf=5, max_features=sqrt, max_depth=10 \n",
      "[CV]  n_estimators=900, min_samples_split=5, min_samples_leaf=5, max_features=sqrt, max_depth=10, total=   3.6s\n",
      "[CV] n_estimators=900, min_samples_split=5, min_samples_leaf=5, max_features=sqrt, max_depth=10 \n",
      "[CV]  n_estimators=900, min_samples_split=5, min_samples_leaf=5, max_features=sqrt, max_depth=10, total=   3.5s\n",
      "[CV] n_estimators=900, min_samples_split=5, min_samples_leaf=5, max_features=sqrt, max_depth=10 \n",
      "[CV]  n_estimators=900, min_samples_split=5, min_samples_leaf=5, max_features=sqrt, max_depth=10, total=   3.7s\n",
      "[CV] n_estimators=1100, min_samples_split=10, min_samples_leaf=2, max_features=sqrt, max_depth=15 \n",
      "[CV]  n_estimators=1100, min_samples_split=10, min_samples_leaf=2, max_features=sqrt, max_depth=15, total=   4.8s\n",
      "[CV] n_estimators=1100, min_samples_split=10, min_samples_leaf=2, max_features=sqrt, max_depth=15 \n",
      "[CV]  n_estimators=1100, min_samples_split=10, min_samples_leaf=2, max_features=sqrt, max_depth=15, total=   4.9s\n",
      "[CV] n_estimators=1100, min_samples_split=10, min_samples_leaf=2, max_features=sqrt, max_depth=15 \n",
      "[CV]  n_estimators=1100, min_samples_split=10, min_samples_leaf=2, max_features=sqrt, max_depth=15, total=   4.4s\n",
      "[CV] n_estimators=1100, min_samples_split=10, min_samples_leaf=2, max_features=sqrt, max_depth=15 \n",
      "[CV]  n_estimators=1100, min_samples_split=10, min_samples_leaf=2, max_features=sqrt, max_depth=15, total=   4.7s\n",
      "[CV] n_estimators=1100, min_samples_split=10, min_samples_leaf=2, max_features=sqrt, max_depth=15 \n",
      "[CV]  n_estimators=1100, min_samples_split=10, min_samples_leaf=2, max_features=sqrt, max_depth=15, total=   4.4s\n",
      "[CV] n_estimators=300, min_samples_split=100, min_samples_leaf=5, max_features=auto, max_depth=15 \n",
      "[CV]  n_estimators=300, min_samples_split=100, min_samples_leaf=5, max_features=auto, max_depth=15, total=   1.4s\n",
      "[CV] n_estimators=300, min_samples_split=100, min_samples_leaf=5, max_features=auto, max_depth=15 \n",
      "[CV]  n_estimators=300, min_samples_split=100, min_samples_leaf=5, max_features=auto, max_depth=15, total=   1.4s\n",
      "[CV] n_estimators=300, min_samples_split=100, min_samples_leaf=5, max_features=auto, max_depth=15 \n",
      "[CV]  n_estimators=300, min_samples_split=100, min_samples_leaf=5, max_features=auto, max_depth=15, total=   1.5s\n",
      "[CV] n_estimators=300, min_samples_split=100, min_samples_leaf=5, max_features=auto, max_depth=15 \n",
      "[CV]  n_estimators=300, min_samples_split=100, min_samples_leaf=5, max_features=auto, max_depth=15, total=   1.7s\n",
      "[CV] n_estimators=300, min_samples_split=100, min_samples_leaf=5, max_features=auto, max_depth=15 \n",
      "[CV]  n_estimators=300, min_samples_split=100, min_samples_leaf=5, max_features=auto, max_depth=15, total=   1.6s\n",
      "[CV] n_estimators=400, min_samples_split=5, min_samples_leaf=5, max_features=auto, max_depth=15 \n",
      "[CV]  n_estimators=400, min_samples_split=5, min_samples_leaf=5, max_features=auto, max_depth=15, total=   2.5s\n",
      "[CV] n_estimators=400, min_samples_split=5, min_samples_leaf=5, max_features=auto, max_depth=15 \n",
      "[CV]  n_estimators=400, min_samples_split=5, min_samples_leaf=5, max_features=auto, max_depth=15, total=   2.5s\n",
      "[CV] n_estimators=400, min_samples_split=5, min_samples_leaf=5, max_features=auto, max_depth=15 \n",
      "[CV]  n_estimators=400, min_samples_split=5, min_samples_leaf=5, max_features=auto, max_depth=15, total=   2.4s\n",
      "[CV] n_estimators=400, min_samples_split=5, min_samples_leaf=5, max_features=auto, max_depth=15 \n",
      "[CV]  n_estimators=400, min_samples_split=5, min_samples_leaf=5, max_features=auto, max_depth=15, total=   2.5s\n",
      "[CV] n_estimators=400, min_samples_split=5, min_samples_leaf=5, max_features=auto, max_depth=15 \n",
      "[CV]  n_estimators=400, min_samples_split=5, min_samples_leaf=5, max_features=auto, max_depth=15, total=   2.5s\n",
      "[CV] n_estimators=700, min_samples_split=5, min_samples_leaf=10, max_features=auto, max_depth=20 \n",
      "[CV]  n_estimators=700, min_samples_split=5, min_samples_leaf=10, max_features=auto, max_depth=20, total=   3.8s\n",
      "[CV] n_estimators=700, min_samples_split=5, min_samples_leaf=10, max_features=auto, max_depth=20 \n",
      "[CV]  n_estimators=700, min_samples_split=5, min_samples_leaf=10, max_features=auto, max_depth=20, total=   3.9s\n",
      "[CV] n_estimators=700, min_samples_split=5, min_samples_leaf=10, max_features=auto, max_depth=20 \n",
      "[CV]  n_estimators=700, min_samples_split=5, min_samples_leaf=10, max_features=auto, max_depth=20, total=   3.9s\n",
      "[CV] n_estimators=700, min_samples_split=5, min_samples_leaf=10, max_features=auto, max_depth=20 \n",
      "[CV]  n_estimators=700, min_samples_split=5, min_samples_leaf=10, max_features=auto, max_depth=20, total=   4.6s\n",
      "[CV] n_estimators=700, min_samples_split=5, min_samples_leaf=10, max_features=auto, max_depth=20 \n",
      "[CV]  n_estimators=700, min_samples_split=5, min_samples_leaf=10, max_features=auto, max_depth=20, total=   4.3s\n",
      "[CV] n_estimators=1000, min_samples_split=2, min_samples_leaf=1, max_features=sqrt, max_depth=25 \n",
      "[CV]  n_estimators=1000, min_samples_split=2, min_samples_leaf=1, max_features=sqrt, max_depth=25, total=   6.8s\n",
      "[CV] n_estimators=1000, min_samples_split=2, min_samples_leaf=1, max_features=sqrt, max_depth=25 \n",
      "[CV]  n_estimators=1000, min_samples_split=2, min_samples_leaf=1, max_features=sqrt, max_depth=25, total=   7.7s\n",
      "[CV] n_estimators=1000, min_samples_split=2, min_samples_leaf=1, max_features=sqrt, max_depth=25 \n",
      "[CV]  n_estimators=1000, min_samples_split=2, min_samples_leaf=1, max_features=sqrt, max_depth=25, total=   7.7s\n",
      "[CV] n_estimators=1000, min_samples_split=2, min_samples_leaf=1, max_features=sqrt, max_depth=25 \n",
      "[CV]  n_estimators=1000, min_samples_split=2, min_samples_leaf=1, max_features=sqrt, max_depth=25, total=   8.1s\n",
      "[CV] n_estimators=1000, min_samples_split=2, min_samples_leaf=1, max_features=sqrt, max_depth=25 \n",
      "[CV]  n_estimators=1000, min_samples_split=2, min_samples_leaf=1, max_features=sqrt, max_depth=25, total=   8.0s\n",
      "[CV] n_estimators=1100, min_samples_split=15, min_samples_leaf=10, max_features=sqrt, max_depth=5 \n",
      "[CV]  n_estimators=1100, min_samples_split=15, min_samples_leaf=10, max_features=sqrt, max_depth=5, total=   3.7s\n",
      "[CV] n_estimators=1100, min_samples_split=15, min_samples_leaf=10, max_features=sqrt, max_depth=5 \n",
      "[CV]  n_estimators=1100, min_samples_split=15, min_samples_leaf=10, max_features=sqrt, max_depth=5, total=   3.8s\n",
      "[CV] n_estimators=1100, min_samples_split=15, min_samples_leaf=10, max_features=sqrt, max_depth=5 \n",
      "[CV]  n_estimators=1100, min_samples_split=15, min_samples_leaf=10, max_features=sqrt, max_depth=5, total=   4.4s\n",
      "[CV] n_estimators=1100, min_samples_split=15, min_samples_leaf=10, max_features=sqrt, max_depth=5 \n",
      "[CV]  n_estimators=1100, min_samples_split=15, min_samples_leaf=10, max_features=sqrt, max_depth=5, total=   3.5s\n",
      "[CV] n_estimators=1100, min_samples_split=15, min_samples_leaf=10, max_features=sqrt, max_depth=5 \n",
      "[CV]  n_estimators=1100, min_samples_split=15, min_samples_leaf=10, max_features=sqrt, max_depth=5, total=   3.6s\n",
      "[CV] n_estimators=300, min_samples_split=15, min_samples_leaf=1, max_features=sqrt, max_depth=15 \n",
      "[CV]  n_estimators=300, min_samples_split=15, min_samples_leaf=1, max_features=sqrt, max_depth=15, total=   1.5s\n",
      "[CV] n_estimators=300, min_samples_split=15, min_samples_leaf=1, max_features=sqrt, max_depth=15 \n",
      "[CV]  n_estimators=300, min_samples_split=15, min_samples_leaf=1, max_features=sqrt, max_depth=15, total=   1.5s\n",
      "[CV] n_estimators=300, min_samples_split=15, min_samples_leaf=1, max_features=sqrt, max_depth=15 \n",
      "[CV]  n_estimators=300, min_samples_split=15, min_samples_leaf=1, max_features=sqrt, max_depth=15, total=   1.6s\n",
      "[CV] n_estimators=300, min_samples_split=15, min_samples_leaf=1, max_features=sqrt, max_depth=15 \n",
      "[CV]  n_estimators=300, min_samples_split=15, min_samples_leaf=1, max_features=sqrt, max_depth=15, total=   1.5s\n",
      "[CV] n_estimators=300, min_samples_split=15, min_samples_leaf=1, max_features=sqrt, max_depth=15 \n",
      "[CV]  n_estimators=300, min_samples_split=15, min_samples_leaf=1, max_features=sqrt, max_depth=15, total=   1.5s\n",
      "[CV] n_estimators=700, min_samples_split=10, min_samples_leaf=2, max_features=sqrt, max_depth=5 \n"
     ]
    },
    {
     "name": "stdout",
     "output_type": "stream",
     "text": [
      "[CV]  n_estimators=700, min_samples_split=10, min_samples_leaf=2, max_features=sqrt, max_depth=5, total=   2.5s\n",
      "[CV] n_estimators=700, min_samples_split=10, min_samples_leaf=2, max_features=sqrt, max_depth=5 \n",
      "[CV]  n_estimators=700, min_samples_split=10, min_samples_leaf=2, max_features=sqrt, max_depth=5, total=   2.5s\n",
      "[CV] n_estimators=700, min_samples_split=10, min_samples_leaf=2, max_features=sqrt, max_depth=5 \n",
      "[CV]  n_estimators=700, min_samples_split=10, min_samples_leaf=2, max_features=sqrt, max_depth=5, total=   2.2s\n",
      "[CV] n_estimators=700, min_samples_split=10, min_samples_leaf=2, max_features=sqrt, max_depth=5 \n",
      "[CV]  n_estimators=700, min_samples_split=10, min_samples_leaf=2, max_features=sqrt, max_depth=5, total=   2.4s\n",
      "[CV] n_estimators=700, min_samples_split=10, min_samples_leaf=2, max_features=sqrt, max_depth=5 \n",
      "[CV]  n_estimators=700, min_samples_split=10, min_samples_leaf=2, max_features=sqrt, max_depth=5, total=   2.3s\n",
      "[CV] n_estimators=700, min_samples_split=15, min_samples_leaf=1, max_features=auto, max_depth=20 \n",
      "[CV]  n_estimators=700, min_samples_split=15, min_samples_leaf=1, max_features=auto, max_depth=20, total=   5.9s\n",
      "[CV] n_estimators=700, min_samples_split=15, min_samples_leaf=1, max_features=auto, max_depth=20 \n",
      "[CV]  n_estimators=700, min_samples_split=15, min_samples_leaf=1, max_features=auto, max_depth=20, total=   5.5s\n",
      "[CV] n_estimators=700, min_samples_split=15, min_samples_leaf=1, max_features=auto, max_depth=20 \n",
      "[CV]  n_estimators=700, min_samples_split=15, min_samples_leaf=1, max_features=auto, max_depth=20, total=   5.9s\n",
      "[CV] n_estimators=700, min_samples_split=15, min_samples_leaf=1, max_features=auto, max_depth=20 \n",
      "[CV]  n_estimators=700, min_samples_split=15, min_samples_leaf=1, max_features=auto, max_depth=20, total=   6.0s\n",
      "[CV] n_estimators=700, min_samples_split=15, min_samples_leaf=1, max_features=auto, max_depth=20 \n",
      "[CV]  n_estimators=700, min_samples_split=15, min_samples_leaf=1, max_features=auto, max_depth=20, total=   5.1s\n"
     ]
    },
    {
     "name": "stderr",
     "output_type": "stream",
     "text": [
      "[Parallel(n_jobs=1)]: Done  50 out of  50 | elapsed:  3.1min finished\n"
     ]
    },
    {
     "data": {
      "text/plain": [
       "RandomizedSearchCV(cv=5, error_score='raise-deprecating',\n",
       "                   estimator=RandomForestRegressor(bootstrap=True,\n",
       "                                                   criterion='mse',\n",
       "                                                   max_depth=None,\n",
       "                                                   max_features='auto',\n",
       "                                                   max_leaf_nodes=None,\n",
       "                                                   min_impurity_decrease=0.0,\n",
       "                                                   min_impurity_split=None,\n",
       "                                                   min_samples_leaf=1,\n",
       "                                                   min_samples_split=2,\n",
       "                                                   min_weight_fraction_leaf=0.0,\n",
       "                                                   n_estimators='warn',\n",
       "                                                   n_jobs=None, oob_score=False,\n",
       "                                                   random_sta...\n",
       "                   iid='warn', n_iter=10, n_jobs=1,\n",
       "                   param_distributions={'max_depth': [5, 10, 15, 20, 25, 30],\n",
       "                                        'max_features': ['auto', 'sqrt'],\n",
       "                                        'min_samples_leaf': [1, 2, 5, 10],\n",
       "                                        'min_samples_split': [2, 5, 10, 15,\n",
       "                                                              100],\n",
       "                                        'n_estimators': [100, 200, 300, 400,\n",
       "                                                         500, 600, 700, 800,\n",
       "                                                         900, 1000, 1100,\n",
       "                                                         1200]},\n",
       "                   pre_dispatch='2*n_jobs', random_state=42, refit=True,\n",
       "                   return_train_score=False, scoring='neg_mean_squared_error',\n",
       "                   verbose=2)"
      ]
     },
     "execution_count": 67,
     "metadata": {},
     "output_type": "execute_result"
    }
   ],
   "source": [
    "rf_random.fit(x_train,y_train)"
   ]
  },
  {
   "cell_type": "code",
   "execution_count": 69,
   "metadata": {},
   "outputs": [],
   "source": [
    "prediction=rf_random.predict(x_test)"
   ]
  },
  {
   "cell_type": "code",
   "execution_count": 70,
   "metadata": {},
   "outputs": [
    {
     "data": {
      "text/plain": [
       "array([ 624440.90486669,  947347.12769875,  361590.76064785,\n",
       "         60117.72619048,  981200.        ,  531730.10009435,\n",
       "        929188.59773337,   95433.77799423,  229999.        ,\n",
       "        823128.80952381,  169616.93969524,  660871.90713453,\n",
       "        264889.69169365, 1314775.60064935,  390802.37320476,\n",
       "        496566.47163629,  521443.42885303,  445160.12142857,\n",
       "        396065.96878622,  215385.61904762,  498565.11404779,\n",
       "        666940.95736825, 1395370.36904762,  352015.82738095,\n",
       "        759642.70050733,  372346.76190476,  250205.28592478,\n",
       "        346325.33586869,  345696.5       ,  459571.10929011,\n",
       "        242933.5766872 ,  251741.71930014, 1478116.944     ,\n",
       "        324859.07215007,  545497.69545079,  450000.        ,\n",
       "        464014.66433333,  499476.47619048,  497624.1448843 ,\n",
       "        259156.80947619,  167171.31833333,   65575.18333333,\n",
       "        281205.        ,  383122.16224387, 1523969.77380952,\n",
       "        237283.47426185,  494019.998     ,  337220.88642857,\n",
       "        547992.40606616,   87113.44761905,  465521.        ,\n",
       "        489761.        ,  190453.57431457,  477258.995     ,\n",
       "        381108.75      , 1584591.27287582,   61518.44433333,\n",
       "        520965.        ,  457272.35813333,  342315.52442857,\n",
       "        504275.92063492,  699944.83480404, 1730454.14285714,\n",
       "        245486.93028571, 1580000.        ,  524233.61084755,\n",
       "        250765.17457306,  149707.70770714,  129197.96388889,\n",
       "        315517.80330106,  419447.57009787,  234598.73407082,\n",
       "       1234980.66366667,  412562.45818648,  534331.93253968,\n",
       "        826231.42260101,  251741.71930014,  412562.45818648,\n",
       "        259443.27280952,  218491.1317689 ,  410421.75597932,\n",
       "        570091.994     ,  958261.126779  ,  229340.3151039 ,\n",
       "        996237.25868254,  574060.999     ,  232622.35656566,\n",
       "        334600.43352481,  214270.80058915,  454786.80555556,\n",
       "        168219.53347982,  347525.07414563,  570093.55952381,\n",
       "        646410.64646465, 1300000.        ,  108585.66071429,\n",
       "        191731.31890332,  864005.        ,  670000.        ,\n",
       "        450000.        ,  437494.76499651,  626249.24304762,\n",
       "        263974.37267114, 1131433.48307143,  614234.26064214,\n",
       "        183208.        ,  149311.66266667,  330495.55952381,\n",
       "        427481.56096681,  370645.84257409,  245424.22993673,\n",
       "        574230.        ,  116120.79090043,  533770.        ,\n",
       "        174348.98740981,  538291.02984515,  396065.96878622,\n",
       "        229999.        ,  370248.97619048,  347525.07414563,\n",
       "        404554.777     ,  284356.236     ,  315099.86725714,\n",
       "        208935.85502063,   80580.04365079,  339175.7969808 ,\n",
       "       1035065.98719336,  133943.54761905,  438329.01665507,\n",
       "        573005.21263033,  135957.26190476,  255773.99690476,\n",
       "        125127.96869048,  491182.66175833,  287136.24479762,\n",
       "        148636.89954473,   91448.6547619 ,  120936.66666667,\n",
       "        189280.5639985 ,  578524.477     ,  233643.73986591,\n",
       "        217479.45737374,  277939.        ,  349469.46587302,\n",
       "        760000.        ,  760351.02395238,  151610.977     ,\n",
       "        195472.831     ,  130678.96454629,  409297.21915584,\n",
       "        478308.996     ,  200957.48750833, 2451233.87995238,\n",
       "        461459.81933333,  794735.2755439 , 1147803.892     ,\n",
       "         59915.68333333,  505561.25      ,  245424.22993673,\n",
       "        237283.47426185,  299942.11433607,  286320.90584416,\n",
       "        228368.597     ,  670937.53345887,  354615.36157143,\n",
       "        159617.15269841, 1200650.999     ,  331640.989     ,\n",
       "        308248.        ,  198482.10515873,  795959.28730159,\n",
       "        172256.16566667,   80000.        ,  397153.555     ,\n",
       "        703301.72953513,   95811.11111111,  547992.40606616,\n",
       "        250765.17457306, 1124694.997     ,  350991.18736819,\n",
       "        390118.36620767,  638787.64925868,  390872.3591938 ,\n",
       "        375962.96653102,  114719.07810649,  174182.65919048,\n",
       "        235728.6002746 ,  637635.5       ,  671125.        ,\n",
       "        385000.        ,  563714.04870755,  376434.40347176,\n",
       "        222182.77277778,  142809.0054359 ,   91594.85138095,\n",
       "        151355.16166667,  137394.02274603,  722261.98730159,\n",
       "        703585.60411111,  709225.98153513, 1314775.60064935,\n",
       "        420829.16666667,  397089.44630357,  502426.6549741 ,\n",
       "        181347.88989622, 1397224.01190476,  186103.59942024,\n",
       "        427481.56096681,  132027.11557857,  339175.7969808 ,\n",
       "        242933.5766872 , 1141307.50021368,  998336.93736216,\n",
       "        337528.83929867,  641098.51717727,  334600.43352481,\n",
       "        105139.31223571,  225000.        ,  541693.5902381 ,\n",
       "        197163.00891209,  794735.2755439 , 4927605.        ,\n",
       "       4927605.        ,  248353.4702381 ,  475673.124     ,\n",
       "       1464892.34920635,  240886.13785714,  764067.16566667,\n",
       "        273697.92858214,  597239.31161905,  305751.1984127 ,\n",
       "        443803.49166667,  575320.06595714,  915382.73809524,\n",
       "        409149.62012837,  252120.71419048,  438547.65799132,\n",
       "         75296.83248629,  296985.33283333,  374272.3422381 ,\n",
       "        697437.7266675 ,  859141.66166667,  241577.72804873,\n",
       "        131080.69546465,  567289.51964524,  423945.        ,\n",
       "        326046.299     ,  206019.75      ,  853773.33333333,\n",
       "        391012.70038095,  261816.84820635,  249224.953     ,\n",
       "        778984.31427619, 1190147.1278992 , 2101831.5       ,\n",
       "        240722.11933506,  250765.17457306,  341225.31883333,\n",
       "        797743.65682689,  444027.1489344 ,  637666.30722119,\n",
       "        245424.22993673,  685013.21428571,  438547.65799132,\n",
       "        354411.3503127 , 1109359.999     ,  545554.98116508,\n",
       "       1090707.25      ,  239000.        ,  187209.79410867,\n",
       "       1580000.        ,  760000.        ,  237283.47426185,\n",
       "        918234.16666667,  578318.64377778,  695914.565     ,\n",
       "        691822.88626374,  262034.33333333,  510580.81496825,\n",
       "        174314.09780952,  239530.02535578,  756422.24071198,\n",
       "         96946.69047619,  648063.0952381 ,  197351.49464358,\n",
       "        548620.73897063,  504494.        ,  142809.0054359 ,\n",
       "        242039.26671429,  437425.32935   ,   64352.        ,\n",
       "         91705.73629149,  127883.03513968,  389379.30216377,\n",
       "        181347.88989622,  195467.47513644,   96499.791     ,\n",
       "        414048.88493753,  778984.31427619,  459321.83333333,\n",
       "        868347.26233571,  192427.07431457,  910349.44905593,\n",
       "        520340.64880952, 1085866.993     ,  480226.66666667,\n",
       "        303715.994     ,  732140.47222222,  343723.22274947,\n",
       "        502426.6549741 ,  396065.96878622,  247322.01507421,\n",
       "        801967.05804286, 1347250.70887446, 1311934.44444444,\n",
       "        222165.3       ,  713315.4949881 ,   88803.58333333,\n",
       "         88798.25      ,  276129.94969597,   77244.34616905,\n",
       "        435755.05060773,  531730.10009435,  516212.15823016,\n",
       "        365427.77142857,  520000.        ,  143451.7288961 ,\n",
       "        186685.34661837,  305727.5757873 ,  524558.47519048,\n",
       "        591310.        ,  242243.443     ,  745874.85314286,\n",
       "        833767.7375116 ,   94898.42619048,   92230.72380952,\n",
       "        196848.08748196,  264889.69169365,  664505.        ,\n",
       "        750000.        ,   98832.22261905, 1187994.5       ,\n",
       "        385821.8010417 ,  446516.82142857,  565590.04451104,\n",
       "        624440.90486669,  171168.16266667,  501411.92852976,\n",
       "        732140.47222222,  378974.50578094,  425733.20095631,\n",
       "        139251.8015873 ,  178786.21484841,  712987.92003571,\n",
       "        664153.95117483,  378284.58333333,  214857.54871239,\n",
       "        638787.64925868,  366349.84126984,  244641.377     ,\n",
       "        136943.971     ,  126969.19047619,  535644.02566667,\n",
       "        163636.66466667,  461593.8162997 ,  238158.68452381,\n",
       "        234446.91328571,  279362.5020754 ,  447284.88539803,\n",
       "        241577.72804873,  444859.04770382,  447771.89010989,\n",
       "       1109925.49166667,  665121.22943723, 1314775.60064935,\n",
       "        893400.998     ,  670937.53345887,  954965.57393499,\n",
       "        688390.13546667,  253067.14612302,  572155.85663333,\n",
       "        320634.352     ,  186685.34661837,  408876.6508816 ,\n",
       "        561990.67033278,  407336.65255123,  805426.999     ,\n",
       "        742100.191     ,  378974.50578094,  157868.30555556,\n",
       "        660871.90713453,  203681.54761905,  878611.90316431,\n",
       "         92283.73394661,  239000.        ,  198482.10515873,\n",
       "       4927605.        ,  137698.6808132 , 1580000.        ,\n",
       "         87737.1458153 ,  259198.        ,  165092.25396825,\n",
       "        172797.35760494,  269050.88748651, 1580000.        ,\n",
       "        695949.18901371,  530799.16508333,  501411.92852976,\n",
       "        760000.        ,  259663.18258983,  512871.04395238,\n",
       "        826231.42260101,  428311.        ,  605303.21183261,\n",
       "        343372.83333333,  257932.996     ,  745376.03333333,\n",
       "       1158756.86163333,  275429.33255043,  338909.33333333,\n",
       "         87113.44761905,  800833.89346764,  106322.86111111,\n",
       "        252306.66566667,   83293.71666667,  569917.66566667,\n",
       "        194572.32183929,  157850.33472944,  698117.90319403,\n",
       "        534647.78171429,  365478.987     ,  496566.47163629,\n",
       "        793519.9924728 ,  351142.71983333,  106709.98305028,\n",
       "        214857.54871239,  550538.989     ,  312246.25521905,\n",
       "        295670.90219762,  295850.999     ,  251741.71930014,\n",
       "        326018.75      ,  383314.57685714,  374808.75785326,\n",
       "        760000.        ,  257870.03304473,  591735.1547619 ,\n",
       "        446516.82142857,  831316.7047619 ,  372137.16058333,\n",
       "        177934.46919048,  339084.50434921,  365319.80357143,\n",
       "        372359.6083153 ,  871972.11904762,  299506.9947618 ,\n",
       "        731896.54649888,  414048.88493753,  706215.77974248,\n",
       "        591623.63525641,  186028.69949495, 1081451.618     ,\n",
       "        442332.47895238,  731896.54649888,   94898.42619048,\n",
       "        255707.14612302, 4927605.        ,  381259.242     ,\n",
       "        257433.4       ,  690871.0952381 , 1203177.998     ,\n",
       "        496566.47163629,  168211.21913603,  117123.38553114,\n",
       "        188803.92857143,  542109.45238095,  507556.875     ,\n",
       "        597990.30175439,  793519.9924728 ,  187477.55162879,\n",
       "        327938.66666667,  237283.47426185,  212815.29573105,\n",
       "        176015.866     ,  588597.        ,  775346.80752381,\n",
       "        539074.39808676,  399865.976     ,  138543.90057143,\n",
       "        521909.4047619 ,  298313.27380952,  561990.67033278,\n",
       "        264052.2049062 ,  638787.64925868, 1580000.        ,\n",
       "        102769.19047619, 4927605.        ,  356287.18282663,\n",
       "        535000.        ,  359685.75822846,  191366.77214286,\n",
       "        182100.50932892,  723115.10129117, 4927605.        ,\n",
       "        209844.58104762, 1498250.38067114,  490904.16666667,\n",
       "        945535.44244444,  520000.        ,  119653.36428571,\n",
       "       1586515.999     ,  377224.04658709,  438329.01665507,\n",
       "        716313.13333879,  189280.5639985 ,  934158.41666667,\n",
       "        602842.06333333,  392808.8257215 ,  503140.599     ,\n",
       "        217824.8727004 ,  108585.66071429,  520965.        ,\n",
       "        520000.        ,  498302.81925   ,  483472.89640232,\n",
       "        173917.14722222,  395690.28457341,  339084.50434921,\n",
       "        797762.        ,  521828.97018815,  210994.86096277,\n",
       "        848610.80952381,  105247.50329683,  134481.11904762,\n",
       "        233542.23934391,  344402.5473693 ,  398838.85577489,\n",
       "        348522.34547935, 1300000.        ,  107335.74265079,\n",
       "        330573.88266667,  600000.        ,  560334.64125874,\n",
       "        330028.96407356, 1901038.968     ,  320373.31049506,\n",
       "        703301.72953513,  350167.5       ,  101560.75      ,\n",
       "        201456.52646032,   82627.        ,  928638.55235043,\n",
       "        614009.53059441,   79281.85714286,  638787.64925868,\n",
       "        401662.37906349,  307935.87197302,  928638.55235043,\n",
       "        380006.07082738,  268812.1760111 ,   76986.91865079,\n",
       "        663030.        ,  433016.52330952, 1630737.498     ,\n",
       "        570091.994     ,  174995.11604762,  282718.97294372,\n",
       "        229999.        ,  151749.35033333,  625000.        ,\n",
       "         80167.6       ,  437494.76499651,  379898.63028571,\n",
       "        716313.13333879,  261836.12289683,  341170.1317851 ,\n",
       "        286901.08701299,  363551.91      ,  731896.54649888,\n",
       "        531468.        ,  233542.23934391, 2233330.07142857,\n",
       "        173906.        ,  356013.44505495,  493887.50279084,\n",
       "        679392.        ,  318762.        ,  359685.75822846,\n",
       "         83293.71666667,  369252.9975    ,  101027.27460317,\n",
       "        438925.997     , 1355234.999     ,  296341.80103378,\n",
       "       1700037.38095238,  327020.61016667,   97578.88866667,\n",
       "        121837.09997619,  500687.14285714,  416093.61145238,\n",
       "       1580000.        ,  360842.499     ,  182244.63531746,\n",
       "        396065.96878622,  555979.89880952,  409090.57464458,\n",
       "        211958.21646667,  295260.23516667,  834497.79761905,\n",
       "        556997.73080476,  538291.02984515,  454397.88281735,\n",
       "        181347.88989622,  385000.        ,  793519.9924728 ,\n",
       "        191193.49145119,  366329.41441667,   89979.89544286,\n",
       "        350733.27133333, 1131433.48307143,  238713.06315407,\n",
       "        452975.999     ,  777330.26283333,  726799.02988319,\n",
       "        412448.16666667,  409149.62012837,  933328.83333333,\n",
       "        625000.        ,  245417.34920635,  250205.28592478,\n",
       "        542894.97438672,  538291.02984515,  260779.84806985,\n",
       "        373586.29065379,  330028.96407356,  737267.995     ,\n",
       "        512497.71061905,  299950.64697619,  370072.16158333,\n",
       "        662253.66066667,  182053.16666667,  438056.9995    ,\n",
       "         96534.83333333,  195978.11904762,  618546.5542291 ,\n",
       "        399481.746     ,  257870.03304473,  174314.09780952,\n",
       "       2066154.        ,  738631.94678932,  343723.22274947,\n",
       "       1766407.998     ,  315517.80330106,  111752.71428571,\n",
       "        203228.66162677,  834497.79761905,  880454.62692063,\n",
       "        438547.65799132,  439628.06744444,  225000.        ,\n",
       "        445685.00605506,  442585.95782962,  670000.        ,\n",
       "        509719.1881532 ,  169213.42857143,  608907.67025873,\n",
       "        544078.39349478,  413352.33424286,  221053.13095238,\n",
       "        199071.99925   ,  660871.90713453,  151610.977     ,\n",
       "        536564.4813677 ,  316536.81612381,  366349.84126984,\n",
       "         90179.99      ,  501411.92852976,  633256.16666667,\n",
       "        266495.        ,  722261.98730159,  712559.43131768,\n",
       "        336861.74614286,  301864.41366667,  127501.07733333,\n",
       "        152204.16666667,  680540.06542857,  300861.52777778,\n",
       "        531730.10009435,  246479.68063603,  791021.16901154,\n",
       "        826231.42260101,  153768.85285072,  523389.55446299,\n",
       "        317030.7258468 ,  144760.54095238,  726315.66363906,\n",
       "        421188.01972857,  541492.99975   ,  314537.11111111,\n",
       "        947347.12769875,  121178.86904762,  191731.31890332,\n",
       "        142101.09140101,  409716.25952381,  339084.50434921,\n",
       "        347525.07414563,  540160.83681225,  535000.        ,\n",
       "        310166.48915476, 3800000.        ,  535644.02566667,\n",
       "        167963.54364762,   95643.333     ,  650110.16232316,\n",
       "        503719.03886667,  371738.3447619 ,  312246.25521905,\n",
       "        716313.13333879,  223183.13951206,  572945.82963571,\n",
       "        216817.49491342,  206984.12266667,  396065.96878622,\n",
       "       1256517.999     , 1132551.46449939,  151489.64916667,\n",
       "        225000.        ,  887129.85704359,  336780.73322511,\n",
       "        261868.728     ,  507556.875     ,  312903.49404762,\n",
       "        225245.996     , 1521935.23333333,  411299.66316667,\n",
       "        604481.57959224, 1295884.16666667, 1034194.94599591,\n",
       "        287987.83333333,  739316.75      ,  286431.77766667,\n",
       "        303511.243     ,  186028.69949495,  821355.75      ,\n",
       "        234598.73407082,  604855.87780159,  264091.97619048,\n",
       "        729492.81761786,  702327.33166667,  396065.96878622,\n",
       "        144590.88649524,  310166.48915476,  344402.5473693 ,\n",
       "        861464.11992158,  561990.67033278,  312903.49404762,\n",
       "        641098.51717727, 1003840.95038095,  583654.31428571,\n",
       "        130778.7037619 ,  595344.53430794, 1671596.        ,\n",
       "         75296.83248629,  385000.        ,  128860.875     ,\n",
       "        160378.34804762,  233643.73986591,  782215.997     ,\n",
       "        252000.83133333,  305727.5757873 ,  347897.44007937,\n",
       "        575592.51384797,  715157.        ,  492595.48929713,\n",
       "        755993.41641667, 1093810.        ,  612667.5       ,\n",
       "        917051.985     ,  780644.969     ,  359209.66433333,\n",
       "        242181.239     ,  239000.        ,  437494.76499651,\n",
       "        350705.90830851,   86520.78038095,  108412.48928571,\n",
       "        697282.78519812,  255230.57796825,  175683.59074675,\n",
       "        716748.01106247,  545710.30952381,  270612.96666667,\n",
       "        700484.31071428,  174155.59074675,  193387.77989755,\n",
       "         86308.01090476,  800833.89346764,  745376.03333333,\n",
       "        521443.42885303,  119653.36428571,  377224.04658709,\n",
       "        339580.699     ,  345584.9272303 ,  998336.93736216,\n",
       "         62999.9988    ,  242367.81843534,  455417.44495238,\n",
       "       1256517.999     ,  254928.76334127,  330128.36891997,\n",
       "        315517.80330106,  561690.83333333,  897146.76015794,\n",
       "        253384.11585714,  271371.58791209,  173411.7732684 ,\n",
       "        322014.83333333, 1855532.974     ,   97333.06332778,\n",
       "        928638.55235043,  473365.67116911, 1529797.84444444,\n",
       "        823109.04352891,   81847.33333333,  328817.55952381,\n",
       "        383122.16224387,   80000.        ,  127185.01466667,\n",
       "        234598.73407082,  133729.42361234,  186685.34661837,\n",
       "        535000.        ,  256719.11796777,  461224.11974649,\n",
       "        207051.28407653,  726315.66363906,  189280.5639985 ,\n",
       "       1190147.1278992 ,  130292.41169841,  605887.999     ,\n",
       "        965186.28892979, 1090707.25      ,  415979.29563492,\n",
       "        256719.11796777,  445147.53161905,  264292.52092352,\n",
       "        461224.11974649,  352082.46399711, 1478654.871337  ,\n",
       "        498565.11404779,  251297.19047619,  820568.92868054,\n",
       "        318477.04761905,  339084.50434921,  187477.55162879,\n",
       "        541492.99975   ,   96295.8190873 , 1104923.28571429,\n",
       "        388708.25      ,  834497.79761905,  460354.16320833,\n",
       "        958261.126779  ,  325937.67099567,  251741.71930014,\n",
       "       1300000.        ,  721144.71715873, 1237125.42857143,\n",
       "        982170.53371429])"
      ]
     },
     "execution_count": 70,
     "metadata": {},
     "output_type": "execute_result"
    }
   ],
   "source": [
    "prediction"
   ]
  },
  {
   "cell_type": "code",
   "execution_count": 71,
   "metadata": {},
   "outputs": [
    {
     "data": {
      "text/plain": [
       "<matplotlib.axes._subplots.AxesSubplot at 0x22bbcb47f88>"
      ]
     },
     "execution_count": 71,
     "metadata": {},
     "output_type": "execute_result"
    },
    {
     "data": {
      "image/png": "[encoded data removed]",
      "text/plain": [
       "<Figure size 432x288 with 1 Axes>"
      ]
     },
     "metadata": {
      "needs_background": "light"
     },
     "output_type": "display_data"
    }
   ],
   "source": [
    "sns.distplot(y_test-prediction)"
   ]
  },
  {
   "cell_type": "code",
   "execution_count": 72,
   "metadata": {},
   "outputs": [
    {
     "data": {
      "text/plain": [
       "-108622579441.80696"
      ]
     },
     "execution_count": 72,
     "metadata": {},
     "output_type": "execute_result"
    }
   ],
   "source": [
    "rf_random.best_score_"
   ]
  },
  {
   "cell_type": "code",
   "execution_count": 73,
   "metadata": {},
   "outputs": [
    {
     "data": {
      "text/plain": [
       "<matplotlib.collections.PathCollection at 0x22bbd85f348>"
      ]
     },
     "execution_count": 73,
     "metadata": {},
     "output_type": "execute_result"
    },
    {
     "data": {
      "image/png": "[encoded data removed]",
      "text/plain": [
       "<Figure size 432x288 with 1 Axes>"
      ]
     },
     "metadata": {
      "needs_background": "light"
     },
     "output_type": "display_data"
    }
   ],
   "source": [
    "plt.scatter(y_test,prediction)"
   ]
  },
  {
   "cell_type": "code",
   "execution_count": 75,
   "metadata": {},
   "outputs": [],
   "source": [
    "import pickle\n",
    "# open a file, where you ant to store the data\n",
    "file = open('random_forest_reg_model.pkl', 'wb')\n",
    "\n",
    "# dump information to that file\n",
    "pickle.dump(rf_random, file)"
   ]
  },
  {
   "cell_type": "code",
   "execution_count": null,
   "metadata": {},
   "outputs": [],
   "source": []
  }
 ],
 "metadata": {
  "kernelspec": {
   "display_name": "Python 3",
   "language": "python",
   "name": "python3"
  },
  "language_info": {
   "codemirror_mode": {
    "name": "ipython",
    "version": 3
   },
   "file_extension": ".py",
   "mimetype": "text/x-python",
   "name": "python",
   "nbconvert_exporter": "python",
   "pygments_lexer": "ipython3",
   "version": "3.7.4"
  }
 },
 "nbformat": 4,
 "nbformat_minor": 2
}
